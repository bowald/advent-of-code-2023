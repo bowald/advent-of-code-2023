{
 "cells": [
  {
   "cell_type": "markdown",
   "metadata": {},
   "source": [
    "### IO and utilities"
   ]
  },
  {
   "cell_type": "code",
   "execution_count": 8,
   "metadata": {},
   "outputs": [],
   "source": [
    "import os\n",
    "\n",
    "def read_file(path: str) -> list[str]:\n",
    "    with open(os.path.join(os.getcwd(), path), \"r\") as f:\n",
    "        return [line.strip() for line in f.readlines()]"
   ]
  },
  {
   "cell_type": "markdown",
   "metadata": {},
   "source": [
    "# Day 1: Trebuchet?!\n"
   ]
  },
  {
   "cell_type": "code",
   "execution_count": 11,
   "id": "69fa2805-4fee-43d7-bb6f-ecdf27892dd8",
   "metadata": {},
   "outputs": [
    {
     "name": "stdout",
     "output_type": "stream",
     "text": [
      "54630\n"
     ]
    }
   ],
   "source": [
    "def getnumber(line: str) -> int:\n",
    "    numbers = [c for c in line if c.isdigit()]\n",
    "    return int(numbers[0] + numbers[-1])\n",
    "\n",
    "day1_1 = read_file(\"day1/1.txt\")\n",
    "print(sum([getnumber(l) for l in day1_1]))\n"
   ]
  },
  {
   "cell_type": "markdown",
   "metadata": {},
   "source": [
    "Part 2, search each line for the first digit or word, the search from back after first digit or word."
   ]
  },
  {
   "cell_type": "code",
   "execution_count": 42,
   "metadata": {},
   "outputs": [
    {
     "name": "stdout",
     "output_type": "stream",
     "text": [
      "54770\n"
     ]
    }
   ],
   "source": [
    "def test(substr: str) -> str:\n",
    "    numbers = {\n",
    "        'one': '1',\n",
    "        'two': '2',\n",
    "        'three': '3',\n",
    "        'four': '4',\n",
    "        'five': '5',\n",
    "        'six': '6',\n",
    "        'seven': '7',\n",
    "        'eight': '8',\n",
    "        'nine': '9'\n",
    "    }\n",
    "\n",
    "    for word, digit in numbers.items():\n",
    "        if word in substr:\n",
    "            return digit\n",
    "\n",
    "    return ''\n",
    "\n",
    "def find_first_digit(inline: str, reverse = False) -> str:\n",
    "    buffer = ''\n",
    "    line = inline[::-1] if reverse else inline\n",
    "\n",
    "    for c in line:\n",
    "        if c.isdigit():\n",
    "            return c\n",
    "\n",
    "        if reverse:\n",
    "            buffer = c + buffer\n",
    "        else:\n",
    "            buffer = buffer + c\n",
    "\n",
    "        candidate = test(buffer)\n",
    "        if candidate:\n",
    "            return candidate\n",
    "\n",
    "def replace_text(line: str) -> str:\n",
    "    return find_first_digit(line) + find_first_digit(line, True)\n",
    "   \n",
    "day1_2 = read_file(\"day1/2.txt\")\n",
    "parsed = [int(replace_text(l)) for l in day1_2]\n",
    "print(sum(parsed))"
   ]
  },
  {
   "cell_type": "markdown",
   "metadata": {},
   "source": [
    "# Day 2: Cube Conundrum"
   ]
  },
  {
   "cell_type": "markdown",
   "metadata": {},
   "source": [
    "### Data representation and parsing"
   ]
  },
  {
   "cell_type": "code",
   "execution_count": null,
   "metadata": {},
   "outputs": [],
   "source": [
    "from dataclasses import dataclass\n",
    "import re\n",
    "\n",
    "@dataclass\n",
    "class GameSet():\n",
    "    red: int\n",
    "    green: int\n",
    "    blue: int\n",
    "\n",
    "@dataclass\n",
    "class Game():\n",
    "    id: int\n",
    "    sets: list[GameSet]\n",
    "\n",
    "def parse_set(s: str) -> GameSet:\n",
    "    gameset = GameSet(0,0,0)\n",
    "    cubesstr = s.split(',')\n",
    "\n",
    "    for cube in cubesstr:\n",
    "        n = int(re.search('\\d+', cube).group())\n",
    "        if 'red' in cube:\n",
    "            gameset.red = n\n",
    "        elif 'green' in cube:\n",
    "            gameset.green = n\n",
    "        else:\n",
    "            gameset.blue = n\n",
    "    \n",
    "    return gameset\n",
    "\n",
    "\n",
    "def parse(line: str) -> Game:\n",
    "    g = Game(-1, [])\n",
    "    \n",
    "    gamesrt, setsstr = line.split(':')\n",
    "    g.id = int(gamesrt[4:])\n",
    "    g.sets = [parse_set(s) for s in setsstr.split(';')]\n",
    "    return g\n",
    "\n",
    "day2_1 = read_file('day2/1.txt')\n",
    "games = [parse(l) for l in day2_1]"
   ]
  },
  {
   "cell_type": "markdown",
   "metadata": {},
   "source": [
    "### Part 1: Finding possible games"
   ]
  },
  {
   "cell_type": "code",
   "execution_count": 54,
   "metadata": {},
   "outputs": [
    {
     "name": "stdout",
     "output_type": "stream",
     "text": [
      "2447\n"
     ]
    }
   ],
   "source": [
    "\n",
    "def max_set(a: GameSet, b: GameSet) -> GameSet:\n",
    "    return GameSet(max(a.red, b.red), max(a.green, b.green), max(a.blue, b.blue))\n",
    "\n",
    "def possible(game: Game, max_allowed: GameSet) -> bool:\n",
    "    game_max = GameSet(0,0,0)\n",
    "\n",
    "    for gameset in game.sets:\n",
    "        game_max = max_set(game_max, gameset)\n",
    "\n",
    "    return game_max.red <= max_allowed.red and game_max.green <= max_allowed.green and game_max.blue <= max_allowed.blue\n",
    "\n",
    "valid_game_ids = [g.id for g in games if possible(g, GameSet(12, 13, 14))]\n",
    "print(sum(valid_game_ids))\n"
   ]
  },
  {
   "cell_type": "markdown",
   "metadata": {},
   "source": [
    "### Part 2: Finding mimimum possible cubes and summing power of these sets"
   ]
  },
  {
   "cell_type": "code",
   "execution_count": 55,
   "metadata": {},
   "outputs": [
    {
     "name": "stdout",
     "output_type": "stream",
     "text": [
      "56322\n"
     ]
    }
   ],
   "source": [
    "def minimum_possible_cubes(game: Game) -> GameSet:\n",
    "    game_min = GameSet(0,0,0)\n",
    "\n",
    "    for gameset in game.sets:\n",
    "        game_min = max_set(game_min, gameset)\n",
    "\n",
    "    return game_min\n",
    "\n",
    "def game_power(game: Game) -> int:\n",
    "    s = minimum_possible_cubes(game)\n",
    "    return s.red * s.green * s.blue\n",
    "\n",
    "print(sum([game_power(g) for g in games]))"
   ]
  }
 ],
 "metadata": {
  "kernelspec": {
   "display_name": "Python 3 (ipykernel)",
   "language": "python",
   "name": "python3"
  },
  "language_info": {
   "codemirror_mode": {
    "name": "ipython",
    "version": 3
   },
   "file_extension": ".py",
   "mimetype": "text/x-python",
   "name": "python",
   "nbconvert_exporter": "python",
   "pygments_lexer": "ipython3",
   "version": "3.10.6"
  }
 },
 "nbformat": 4,
 "nbformat_minor": 5
}
