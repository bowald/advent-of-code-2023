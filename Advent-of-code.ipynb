{
 "cells": [
  {
   "cell_type": "markdown",
   "metadata": {},
   "source": [
    "### IO and utilities"
   ]
  },
  {
   "cell_type": "code",
   "execution_count": 84,
   "metadata": {},
   "outputs": [],
   "source": [
    "import os\n",
    "from dataclasses import dataclass, fields\n",
    "import re\n",
    "\n",
    "def read_file(path: str) -> list[str]:\n",
    "    with open(os.path.join(os.getcwd(), path), \"r\") as f:\n",
    "        return [line.strip() for line in f.readlines()]\n",
    "    \n",
    "StringMatrix = list[str]\n",
    "\n",
    "def read_file_as_matrix(path: str) -> StringMatrix:\n",
    "    with open(os.path.join(os.getcwd(), path), \"r\") as f:\n",
    "        return [line.strip() for line in f.readlines()]\n"
   ]
  },
  {
   "cell_type": "markdown",
   "metadata": {},
   "source": [
    "# Day 1: Trebuchet?!\n"
   ]
  },
  {
   "cell_type": "code",
   "execution_count": 85,
   "id": "69fa2805-4fee-43d7-bb6f-ecdf27892dd8",
   "metadata": {},
   "outputs": [
    {
     "name": "stdout",
     "output_type": "stream",
     "text": [
      "142\n"
     ]
    }
   ],
   "source": [
    "def getnumber(line: str) -> int:\n",
    "    numbers = [c for c in line if c.isdigit()]\n",
    "    return int(numbers[0] + numbers[-1])\n",
    "\n",
    "day1_1 = read_file(\"day1/example.txt\")\n",
    "print(sum([getnumber(l) for l in day1_1]))\n"
   ]
  },
  {
   "cell_type": "markdown",
   "metadata": {},
   "source": [
    "Part 2, search each line for the first digit or word, the search from back after first digit or word."
   ]
  },
  {
   "cell_type": "code",
   "execution_count": 86,
   "metadata": {},
   "outputs": [
    {
     "name": "stdout",
     "output_type": "stream",
     "text": [
      "142\n"
     ]
    }
   ],
   "source": [
    "def test(substr: str) -> str:\n",
    "    numbers = {\n",
    "        'one': '1',\n",
    "        'two': '2',\n",
    "        'three': '3',\n",
    "        'four': '4',\n",
    "        'five': '5',\n",
    "        'six': '6',\n",
    "        'seven': '7',\n",
    "        'eight': '8',\n",
    "        'nine': '9'\n",
    "    }\n",
    "\n",
    "    for word, digit in numbers.items():\n",
    "        if word in substr:\n",
    "            return digit\n",
    "\n",
    "    return ''\n",
    "\n",
    "def find_first_digit(inline: str, reverse = False) -> str:\n",
    "    buffer = ''\n",
    "    line = inline[::-1] if reverse else inline\n",
    "\n",
    "    for c in line:\n",
    "        if c.isdigit():\n",
    "            return c\n",
    "\n",
    "        if reverse:\n",
    "            buffer = c + buffer\n",
    "        else:\n",
    "            buffer = buffer + c\n",
    "\n",
    "        candidate = test(buffer)\n",
    "        if candidate:\n",
    "            return candidate\n",
    "\n",
    "def replace_text(line: str) -> str:\n",
    "    return find_first_digit(line) + find_first_digit(line, True)\n",
    "   \n",
    "day1_2 = read_file(\"day1/example.txt\")\n",
    "parsed = [int(replace_text(l)) for l in day1_2]\n",
    "print(sum(parsed))"
   ]
  },
  {
   "cell_type": "markdown",
   "metadata": {},
   "source": [
    "# Day 2: Cube Conundrum"
   ]
  },
  {
   "cell_type": "markdown",
   "metadata": {},
   "source": [
    "### Data representation and parsing"
   ]
  },
  {
   "cell_type": "code",
   "execution_count": 87,
   "metadata": {},
   "outputs": [],
   "source": [
    "@dataclass\n",
    "class GameSet():\n",
    "    red: int\n",
    "    green: int\n",
    "    blue: int\n",
    "\n",
    "@dataclass\n",
    "class Game():\n",
    "    id: int\n",
    "    sets: list[GameSet]\n",
    "\n",
    "def parse_set(s: str) -> GameSet:\n",
    "    gameset = GameSet(0,0,0)\n",
    "    cubesstr = s.split(',')\n",
    "\n",
    "    for cube in cubesstr:\n",
    "        n = int(re.search('\\d+', cube).group())\n",
    "        if 'red' in cube:\n",
    "            gameset.red = n\n",
    "        elif 'green' in cube:\n",
    "            gameset.green = n\n",
    "        else:\n",
    "            gameset.blue = n\n",
    "    \n",
    "    return gameset\n",
    "\n",
    "\n",
    "def parse(line: str) -> Game:\n",
    "    g = Game(-1, [])\n",
    "    \n",
    "    gamesrt, setsstr = line.split(':')\n",
    "    g.id = int(gamesrt[4:])\n",
    "    g.sets = [parse_set(s) for s in setsstr.split(';')]\n",
    "    return g\n",
    "\n",
    "day2_1 = read_file('day2/example.txt')\n",
    "games = [parse(l) for l in day2_1]"
   ]
  },
  {
   "cell_type": "markdown",
   "metadata": {},
   "source": [
    "### Part 1: Finding possible games"
   ]
  },
  {
   "cell_type": "code",
   "execution_count": 88,
   "metadata": {},
   "outputs": [
    {
     "name": "stdout",
     "output_type": "stream",
     "text": [
      "8\n"
     ]
    }
   ],
   "source": [
    "\n",
    "def max_set(a: GameSet, b: GameSet) -> GameSet:\n",
    "    return GameSet(max(a.red, b.red), max(a.green, b.green), max(a.blue, b.blue))\n",
    "\n",
    "def possible(game: Game, max_allowed: GameSet) -> bool:\n",
    "    game_max = GameSet(0,0,0)\n",
    "\n",
    "    for gameset in game.sets:\n",
    "        game_max = max_set(game_max, gameset)\n",
    "\n",
    "    return game_max.red <= max_allowed.red and game_max.green <= max_allowed.green and game_max.blue <= max_allowed.blue\n",
    "\n",
    "valid_game_ids = [g.id for g in games if possible(g, GameSet(12, 13, 14))]\n",
    "print(sum(valid_game_ids))\n"
   ]
  },
  {
   "cell_type": "markdown",
   "metadata": {},
   "source": [
    "### Part 2: Finding mimimum possible cubes and summing power of these sets"
   ]
  },
  {
   "cell_type": "code",
   "execution_count": 89,
   "metadata": {},
   "outputs": [
    {
     "name": "stdout",
     "output_type": "stream",
     "text": [
      "2286\n"
     ]
    }
   ],
   "source": [
    "def minimum_possible_cubes(game: Game) -> GameSet:\n",
    "    game_min = GameSet(0,0,0)\n",
    "\n",
    "    for gameset in game.sets:\n",
    "        game_min = max_set(game_min, gameset)\n",
    "\n",
    "    return game_min\n",
    "\n",
    "def game_power(game: Game) -> int:\n",
    "    s = minimum_possible_cubes(game)\n",
    "    return s.red * s.green * s.blue\n",
    "\n",
    "print(sum([game_power(g) for g in games]))"
   ]
  },
  {
   "cell_type": "markdown",
   "metadata": {},
   "source": [
    "# Day 3: Gear Ratios"
   ]
  },
  {
   "cell_type": "markdown",
   "metadata": {},
   "source": [
    "### Utils"
   ]
  },
  {
   "cell_type": "code",
   "execution_count": 90,
   "metadata": {},
   "outputs": [],
   "source": [
    "\n",
    "@dataclass\n",
    "class Coord():\n",
    "    row: int\n",
    "    col: int\n",
    "\n",
    "def getAdjecent(coord: Coord, total_rows: int, total_cols: int) -> list[Coord] :\n",
    "    result = []\n",
    "    \n",
    "    neighbouring_left = coord.col > 0\n",
    "    neighbouring_right = coord.col < total_cols\n",
    "    neighbouring_up = coord.row > 0\n",
    "    neighbouring_down = coord.row < total_rows\n",
    "\n",
    "    if neighbouring_up:\n",
    "        if neighbouring_left:\n",
    "            result.append(Coord(coord.row - 1, coord.col - 1))\n",
    "        \n",
    "        result.append(Coord(coord.row - 1, coord.col))\n",
    "\n",
    "        if neighbouring_right:\n",
    "            result.append(Coord(coord.row - 1, coord.col + 1))\n",
    "    \n",
    "    if neighbouring_left:\n",
    "        result.append(Coord(coord.row, coord.col - 1))\n",
    "\n",
    "    if neighbouring_right:\n",
    "        result.append(Coord(coord.row, coord.col + 1))\n",
    "\n",
    "    if neighbouring_down:\n",
    "        if neighbouring_left:\n",
    "            result.append(Coord(coord.row + 1, coord.col - 1))\n",
    "        \n",
    "        result.append(Coord(coord.row + 1, coord.col))\n",
    "\n",
    "        if neighbouring_right:\n",
    "            result.append(Coord(coord.row + 1, coord.col + 1))\n",
    "\n",
    "    return result\n",
    "\n",
    "def get_char(data: StringMatrix, coord: Coord) -> str:\n",
    "    return data[coord.row][coord.col]\n",
    "\n",
    "def is_digit(data: StringMatrix, coord: Coord) -> bool:\n",
    "    return get_char(data, coord).isdigit()\n",
    "\n",
    "def getIntIndex(data: StringMatrix, coord: Coord) -> (int,int):\n",
    "    found_first = False\n",
    "    found_last = False \n",
    "\n",
    "    f_index = coord.col\n",
    "    l_index = coord.col\n",
    "\n",
    "    while not found_first:\n",
    "        candidate = f_index - 1\n",
    "        if candidate >= 0 and data[coord.row][candidate].isdigit():\n",
    "            f_index = candidate\n",
    "        else:\n",
    "            found_first = True\n",
    "\n",
    "    while not found_last:\n",
    "        candidate = l_index + 1\n",
    "        if candidate < len(data[coord.row]) and data[coord.row][candidate].isdigit():\n",
    "            l_index = candidate\n",
    "        else:\n",
    "            found_last = True\n",
    "\n",
    "    return f_index, l_index\n",
    "\n",
    "def remove_data(data: StringMatrix, row, begin, end):\n",
    "    current = data[row]\n",
    "    data[row] = current[:begin] + 'x' * (end + 1 - begin) + current[end+1:]\n",
    "\n"
   ]
  },
  {
   "cell_type": "markdown",
   "metadata": {},
   "source": [
    "### Part 1"
   ]
  },
  {
   "cell_type": "code",
   "execution_count": 91,
   "metadata": {},
   "outputs": [
    {
     "name": "stdout",
     "output_type": "stream",
     "text": [
      "4361\n"
     ]
    }
   ],
   "source": [
    "def is_symbol(data: StringMatrix, coord: Coord) -> bool:\n",
    "    symbols = [\"+\",\"*\",\"#\",\"$\",\"%\",\"@\",\"#\",\"&\",\"=\",\"-\",'/']\n",
    "    return get_char(data, coord) in symbols\n",
    "\n",
    "result = 0\n",
    "data = read_file_as_matrix(\"day3/example.txt\")\n",
    "for row in range(len(data)):\n",
    "    for col in range(len(data[row])):\n",
    "        c = Coord(row, col)\n",
    "        if is_symbol(data, c):\n",
    "            adjecents = getAdjecent(c, len(data), len(data[row]))\n",
    "\n",
    "            for a in adjecents:\n",
    "                if is_digit(data, a):\n",
    "                    first, last = getIntIndex(data, a)\n",
    "                    number = int(data[a.row][first:last+1])\n",
    "                    result += number\n",
    "                    remove_data(data, a.row, first, last)\n",
    "\n",
    "print(result)"
   ]
  },
  {
   "cell_type": "markdown",
   "metadata": {},
   "source": [
    "### Part 2 - find gears"
   ]
  },
  {
   "cell_type": "code",
   "execution_count": 92,
   "metadata": {},
   "outputs": [
    {
     "name": "stdout",
     "output_type": "stream",
     "text": [
      "467835\n"
     ]
    }
   ],
   "source": [
    "def is_gear(data: StringMatrix, coord: Coord) -> bool:\n",
    "    return get_char(data, coord) == '*'\n",
    "\n",
    "result = 0\n",
    "data = read_file_as_matrix(\"day3/example.txt\")\n",
    "for row in range(len(data)):\n",
    "    for col in range(len(data[row])):\n",
    "        c = Coord(row, col)\n",
    "        if is_gear(data, c):\n",
    "            adjecents = getAdjecent(c, len(data), len(data[row]))\n",
    "            \n",
    "            numbers = []\n",
    "\n",
    "            data_before = data\n",
    "\n",
    "            for a in adjecents:\n",
    "                if is_digit(data, a):\n",
    "                    first, last = getIntIndex(data, a)\n",
    "                    number = int(data[a.row][first:last+1])\n",
    "                    numbers.append(number)\n",
    "                    remove_data(data, a.row, first, last)\n",
    "\n",
    "            if len(numbers) == 2:\n",
    "                result += numbers[0] * numbers[1]\n",
    "            else: \n",
    "                # No gear! Restore data\n",
    "                data = data_before\n",
    "print(result)"
   ]
  },
  {
   "cell_type": "markdown",
   "metadata": {},
   "source": [
    "# Day 4: Scratchcards"
   ]
  },
  {
   "cell_type": "markdown",
   "metadata": {},
   "source": [
    "### Part 1"
   ]
  },
  {
   "cell_type": "code",
   "execution_count": 93,
   "metadata": {},
   "outputs": [
    {
     "name": "stdout",
     "output_type": "stream",
     "text": [
      "13\n"
     ]
    }
   ],
   "source": [
    "@dataclass\n",
    "class Card():\n",
    "    id: int\n",
    "    winning_numbers: set[int]\n",
    "    numbers: set[int]\n",
    "    \n",
    "def parse_card(line: str) -> Card:\n",
    "    card_nr_str, rest = line.split(\":\")\n",
    "    c = Card(int(card_nr_str[5:].strip()), [], [])\n",
    "\n",
    "    winning_str, numbers_str = rest.split(\"|\")\n",
    "    c.winning_numbers = {int(n.strip()) for n in winning_str.split()}\n",
    "    c.numbers = {int(n.strip()) for n in numbers_str.split()}\n",
    "\n",
    "    return c\n",
    "\n",
    "def worth(c: Card) -> int:\n",
    "    wins = c.numbers.intersection(c.winning_numbers)\n",
    "    return 0 if len(wins) == 0 else pow(2, len(wins) - 1)\n",
    "\n",
    "data = read_file(\"day4/example.txt\")\n",
    "cards = [parse_card(l) for l in data]\n",
    "winnings = [worth(c) for c in cards]\n",
    "print(sum(winnings))\n"
   ]
  },
  {
   "cell_type": "markdown",
   "metadata": {},
   "source": [
    "### Part 2"
   ]
  },
  {
   "cell_type": "code",
   "execution_count": 94,
   "metadata": {},
   "outputs": [
    {
     "name": "stdout",
     "output_type": "stream",
     "text": [
      "30\n"
     ]
    }
   ],
   "source": [
    "@dataclass\n",
    "class Card():\n",
    "    id: int\n",
    "    winning_numbers: set[int]\n",
    "    numbers: set[int]\n",
    "    copies: int\n",
    "    \n",
    "def parse_card(line: str) -> Card:\n",
    "    card_nr_str, rest = line.split(\":\")\n",
    "    c = Card(int(card_nr_str[5:].strip()), [], [], 1)\n",
    "\n",
    "    winning_str, numbers_str = rest.split(\"|\")\n",
    "    c.winning_numbers = {int(n.strip()) for n in winning_str.split()}\n",
    "    c.numbers = {int(n.strip()) for n in numbers_str.split()}\n",
    "\n",
    "    return c\n",
    "\n",
    "def wins(c: Card) -> int:\n",
    "    wins = len(c.numbers.intersection(c.winning_numbers))\n",
    "    return range(c.id, c.id+wins)\n",
    "      \n",
    "\n",
    "data = read_file(\"day4/example.txt\")\n",
    "cards = [parse_card(l) for l in data]\n",
    "for card in cards:\n",
    "    new_copies = wins(card)\n",
    "    for id in new_copies:\n",
    "        if id < len(cards):\n",
    "            cards[id].copies += card.copies\n",
    "\n",
    "total = sum([c.copies for c in cards])\n",
    "print(total)"
   ]
  },
  {
   "cell_type": "markdown",
   "metadata": {},
   "source": [
    "# Day 5: If You Give A Seed A Fertilizer"
   ]
  },
  {
   "cell_type": "markdown",
   "metadata": {},
   "source": [
    "### Utils - shared code between Part 1 and Part 2"
   ]
  },
  {
   "cell_type": "code",
   "execution_count": 95,
   "metadata": {},
   "outputs": [],
   "source": [
    "import sys\n",
    "import operator\n",
    "\n",
    "@dataclass\n",
    "class Table_item():\n",
    "    destination_range_start: int\n",
    "    source_range_start: int\n",
    "    range_length: int\n",
    "\n",
    "def within (src: int, entry: Table_item) -> int:\n",
    "    src_delta = src - entry.source_range_start\n",
    "    if src_delta >= 0 and src_delta < entry.range_length:\n",
    "        return entry.destination_range_start + src_delta\n",
    "    return -1\n",
    "\n",
    "def parse_tables(lines: list[str]) -> dict[str, list[Table_item]]:\n",
    "    tables = {}\n",
    "\n",
    "    parsing_map = False    \n",
    "    current_map = ''\n",
    "\n",
    "    for line in lines:\n",
    "        if len(line) == 0:\n",
    "            parsing_map = False\n",
    "            if current_map:\n",
    "                current_map = ''\n",
    "            continue\n",
    "        if not parsing_map and ' map:' in line:\n",
    "            current_map = line.split(\" map:\")[0]\n",
    "            parsing_map = True\n",
    "            continue\n",
    "\n",
    "        if parsing_map:\n",
    "            d, s, r = [int(x) for x in line.split()]\n",
    "            \n",
    "            if not current_map in tables:\n",
    "                tables[current_map] = []\n",
    "            \n",
    "            tables[current_map].append(Table_item(d, s, r))\n",
    "    \n",
    "    for table in tables.values():\n",
    "        table.sort(key=operator.attrgetter('source_range_start'))\n",
    "\n",
    "    return tables\n",
    "\n",
    "def populate_seeds(seed_ids: list[int], tables: dict[str, list[Table_item]]) -> list[list[int]]:\n",
    "    seeds = [[id] + [-1] * 7 for id in seed_ids]\n",
    "    keys = ['seed-to-soil', 'soil-to-fertilizer', 'fertilizer-to-water', 'water-to-light', 'light-to-temperature', 'temperature-to-humidity', 'humidity-to-location']\n",
    "    \n",
    "    for seed in seeds:\n",
    "        for i, key in enumerate(keys, 1):\n",
    "            src = i-1\n",
    "            dst = i\n",
    "            \n",
    "            seed[dst] = seed[src] # Default to prev value\n",
    "\n",
    "            for entry in tables[key]:\n",
    "                v = within(seed[src], entry)\n",
    "                if v > -1:\n",
    "                    seed[dst] = v\n",
    "                    break\n",
    "    \n",
    "    return seeds\n",
    "\n",
    "def find_lowest_location(seeds: list[list[int]]) -> int:\n",
    "    lowest_location = sys.maxsize\n",
    "\n",
    "    for seed in seeds:\n",
    "        lowest_location = min(lowest_location, seed[7]) # Location at index 7\n",
    "\n",
    "    return lowest_location\n"
   ]
  },
  {
   "cell_type": "markdown",
   "metadata": {},
   "source": [
    "### Part 1"
   ]
  },
  {
   "cell_type": "code",
   "execution_count": 96,
   "metadata": {},
   "outputs": [
    {
     "name": "stdout",
     "output_type": "stream",
     "text": [
      "51752125\n"
     ]
    }
   ],
   "source": [
    "def parse_seeds(line: str) -> list[int]:\n",
    "    return [int(x) for x in line[7:].split()]\n",
    "\n",
    "data = read_file(\"day5/example.txt\")\n",
    "seed_ids = parse_seeds(data[0])\n",
    "tables = parse_tables(data[1:])\n",
    "seeds = populate_seeds(seed_ids, tables)\n",
    "print(find_lowest_location(seeds))"
   ]
  },
  {
   "cell_type": "markdown",
   "metadata": {},
   "source": [
    "### Part 2\n",
    "Needed to solve it based on seed ranges instead of simulating every seed. The solution from part 1 when applied to part 2 was too slow"
   ]
  },
  {
   "cell_type": "code",
   "execution_count": 97,
   "metadata": {},
   "outputs": [
    {
     "name": "stdout",
     "output_type": "stream",
     "text": [
      "12634632\n"
     ]
    }
   ],
   "source": [
    "@dataclass\n",
    "class Number_Range():\n",
    "    start: int\n",
    "    length: int\n",
    "\n",
    "def parse_seeds(line: str) -> list[Number_Range]:\n",
    "    seed_numbers = [int(x) for x in line[7:].split()]\n",
    "    \n",
    "    seeds = []\n",
    "    for i in range(0, len(seed_numbers), 2):\n",
    "        seeds.append(Number_Range(seed_numbers[i], seed_numbers[i+1]))\n",
    "\n",
    "    seeds.sort(key=operator.attrgetter('start'))\n",
    "    return seeds\n",
    "\n",
    "def convert_range(range: Number_Range, entry: Table_item) -> (Number_Range | None, Number_Range | None, Number_Range | None):\n",
    "    range_end = range.start + range.length\n",
    "    entry_end = entry.source_range_start + entry.range_length\n",
    "\n",
    "    if range_end < entry.source_range_start:\n",
    "        below = range\n",
    "        return below, None, None\n",
    "    \n",
    "    if entry_end <= range.start:\n",
    "        above = range\n",
    "        return None, None, above\n",
    "\n",
    "    # all within\n",
    "    if range.start >= entry.source_range_start and range_end <= entry_end:\n",
    "        start_delta = range.start - entry.source_range_start\n",
    "        converted = Number_Range(entry.destination_range_start + start_delta, range.length)\n",
    "        return None, converted, None\n",
    "    \n",
    "    if range.start < entry.source_range_start and range_end <= entry_end:\n",
    "        delta = entry.source_range_start - range.start\n",
    "        below = Number_Range(range.start, delta)\n",
    "        converted = Number_Range(entry.destination_range_start, range.length - delta)\n",
    "        return below, converted, None\n",
    "\n",
    "    if range.start >= entry.source_range_start and range_end > entry_end:\n",
    "        delta = range_end - entry_end\n",
    "        above = Number_Range(entry_end, delta)\n",
    "        delta_start = range.start - entry.source_range_start\n",
    "        converted = Number_Range(entry.destination_range_start + delta_start, range.length - delta)\n",
    "        return None, converted, above\n",
    "\n",
    "    if range.start < entry.source_range_start and range_end > entry_end:\n",
    "        delta_b = entry.source_range_start - range.start\n",
    "        below = Number_Range(range.start, delta_b)\n",
    "\n",
    "        delta_a = range_end - entry_end\n",
    "        above = Number_Range(entry_end, delta_a)\n",
    "        \n",
    "        converted = Number_Range(entry.destination_range_start, entry.range_length)\n",
    "        return below, converted, above\n",
    "    \n",
    "def lookup(range: Number_Range, table: list[Table_item]) -> list[Number_Range]:\n",
    "    # We assume that table is sorted based on source start\n",
    "\n",
    "    remaining = range\n",
    "    processed = []\n",
    "    for entry in table:\n",
    "        below, converted, above = convert_range(remaining, entry)\n",
    "\n",
    "        if below:\n",
    "            processed.append(below)\n",
    "\n",
    "        if converted:\n",
    "            processed.append(converted)\n",
    "        \n",
    "        remaining = above\n",
    "\n",
    "        if not remaining:\n",
    "            break\n",
    "\n",
    "    if remaining:\n",
    "        processed.append(remaining)\n",
    "    \n",
    "    return processed\n",
    "\n",
    "def solve(seeds: list[Number_Range], tables: dict[str, list[Table_item]]) -> int:\n",
    "    table_names = ['seed-to-soil', 'soil-to-fertilizer', 'fertilizer-to-water', 'water-to-light', 'light-to-temperature', 'temperature-to-humidity', 'humidity-to-location']\n",
    "    \n",
    "    unprocessed_range = seeds\n",
    "    proccessed = []\n",
    "\n",
    "    for name in table_names:\n",
    "        proccessed = []\n",
    "        for nr in unprocessed_range:\n",
    "            proccessed.extend(lookup(nr, tables[name]))\n",
    "\n",
    "        unprocessed_range = proccessed\n",
    "    \n",
    "    min_location = sys.maxsize\n",
    "    for x in proccessed:\n",
    "        min_location = min(min_location, x.start)\n",
    "\n",
    "    return min_location\n",
    "\n",
    "data = read_file(\"day5/example.txt\")\n",
    "seed_ranges = parse_seeds(data[0])\n",
    "tables = parse_tables(data[1:])\n",
    "\n",
    "lowest_location = solve(seed_ranges, tables)\n",
    "print(lowest_location)"
   ]
  }
 ],
 "metadata": {
  "kernelspec": {
   "display_name": "Python 3 (ipykernel)",
   "language": "python",
   "name": "python3"
  },
  "language_info": {
   "codemirror_mode": {
    "name": "ipython",
    "version": 3
   },
   "file_extension": ".py",
   "mimetype": "text/x-python",
   "name": "python",
   "nbconvert_exporter": "python",
   "pygments_lexer": "ipython3",
   "version": "3.10.6"
  }
 },
 "nbformat": 4,
 "nbformat_minor": 5
}
