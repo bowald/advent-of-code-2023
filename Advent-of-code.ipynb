{
 "cells": [
  {
   "cell_type": "markdown",
   "metadata": {},
   "source": [
    "### IO and utilities"
   ]
  },
  {
   "cell_type": "code",
   "execution_count": 2,
   "metadata": {},
   "outputs": [],
   "source": [
    "import os\n",
    "from dataclasses import dataclass, fields\n",
    "import re\n",
    "\n",
    "def read_file(path: str) -> list[str]:\n",
    "    with open(os.path.join(os.getcwd(), path), \"r\") as f:\n",
    "        return [line.strip() for line in f.readlines()]\n"
   ]
  },
  {
   "cell_type": "markdown",
   "metadata": {},
   "source": [
    "# Day 1: Trebuchet?!\n"
   ]
  },
  {
   "cell_type": "code",
   "execution_count": 3,
   "id": "69fa2805-4fee-43d7-bb6f-ecdf27892dd8",
   "metadata": {},
   "outputs": [
    {
     "name": "stdout",
     "output_type": "stream",
     "text": [
      "142\n"
     ]
    }
   ],
   "source": [
    "def getnumber(line: str) -> int:\n",
    "    numbers = [c for c in line if c.isdigit()]\n",
    "    return int(numbers[0] + numbers[-1])\n",
    "\n",
    "day1_1 = read_file(\"day1/example.txt\")\n",
    "print(sum([getnumber(l) for l in day1_1]))\n"
   ]
  },
  {
   "cell_type": "markdown",
   "metadata": {},
   "source": [
    "Part 2, search each line for the first digit or word, the search from back after first digit or word."
   ]
  },
  {
   "cell_type": "code",
   "execution_count": 4,
   "metadata": {},
   "outputs": [
    {
     "name": "stdout",
     "output_type": "stream",
     "text": [
      "142\n"
     ]
    }
   ],
   "source": [
    "def test(substr: str) -> str:\n",
    "    numbers = {\n",
    "        'one': '1',\n",
    "        'two': '2',\n",
    "        'three': '3',\n",
    "        'four': '4',\n",
    "        'five': '5',\n",
    "        'six': '6',\n",
    "        'seven': '7',\n",
    "        'eight': '8',\n",
    "        'nine': '9'\n",
    "    }\n",
    "\n",
    "    for word, digit in numbers.items():\n",
    "        if word in substr:\n",
    "            return digit\n",
    "\n",
    "    return ''\n",
    "\n",
    "def find_first_digit(inline: str, reverse = False) -> str:\n",
    "    buffer = ''\n",
    "    line = inline[::-1] if reverse else inline\n",
    "\n",
    "    for c in line:\n",
    "        if c.isdigit():\n",
    "            return c\n",
    "\n",
    "        if reverse:\n",
    "            buffer = c + buffer\n",
    "        else:\n",
    "            buffer = buffer + c\n",
    "\n",
    "        candidate = test(buffer)\n",
    "        if candidate:\n",
    "            return candidate\n",
    "\n",
    "def replace_text(line: str) -> str:\n",
    "    return find_first_digit(line) + find_first_digit(line, True)\n",
    "   \n",
    "day1_2 = read_file(\"day1/example.txt\")\n",
    "parsed = [int(replace_text(l)) for l in day1_2]\n",
    "print(sum(parsed))"
   ]
  },
  {
   "cell_type": "markdown",
   "metadata": {},
   "source": [
    "# Day 2: Cube Conundrum"
   ]
  },
  {
   "cell_type": "markdown",
   "metadata": {},
   "source": [
    "### Data representation and parsing"
   ]
  },
  {
   "cell_type": "code",
   "execution_count": 5,
   "metadata": {},
   "outputs": [],
   "source": [
    "@dataclass\n",
    "class GameSet():\n",
    "    red: int\n",
    "    green: int\n",
    "    blue: int\n",
    "\n",
    "@dataclass\n",
    "class Game():\n",
    "    id: int\n",
    "    sets: list[GameSet]\n",
    "\n",
    "def parse_set(s: str) -> GameSet:\n",
    "    gameset = GameSet(0,0,0)\n",
    "    cubesstr = s.split(',')\n",
    "\n",
    "    for cube in cubesstr:\n",
    "        n = int(re.search('\\d+', cube).group())\n",
    "        if 'red' in cube:\n",
    "            gameset.red = n\n",
    "        elif 'green' in cube:\n",
    "            gameset.green = n\n",
    "        else:\n",
    "            gameset.blue = n\n",
    "    \n",
    "    return gameset\n",
    "\n",
    "\n",
    "def parse(line: str) -> Game:\n",
    "    g = Game(-1, [])\n",
    "    \n",
    "    gamesrt, setsstr = line.split(':')\n",
    "    g.id = int(gamesrt[4:])\n",
    "    g.sets = [parse_set(s) for s in setsstr.split(';')]\n",
    "    return g\n",
    "\n",
    "day2_1 = read_file('day2/example.txt')\n",
    "games = [parse(l) for l in day2_1]"
   ]
  },
  {
   "cell_type": "markdown",
   "metadata": {},
   "source": [
    "### Part 1: Finding possible games"
   ]
  },
  {
   "cell_type": "code",
   "execution_count": 6,
   "metadata": {},
   "outputs": [
    {
     "name": "stdout",
     "output_type": "stream",
     "text": [
      "8\n"
     ]
    }
   ],
   "source": [
    "\n",
    "def max_set(a: GameSet, b: GameSet) -> GameSet:\n",
    "    return GameSet(max(a.red, b.red), max(a.green, b.green), max(a.blue, b.blue))\n",
    "\n",
    "def possible(game: Game, max_allowed: GameSet) -> bool:\n",
    "    game_max = GameSet(0,0,0)\n",
    "\n",
    "    for gameset in game.sets:\n",
    "        game_max = max_set(game_max, gameset)\n",
    "\n",
    "    return game_max.red <= max_allowed.red and game_max.green <= max_allowed.green and game_max.blue <= max_allowed.blue\n",
    "\n",
    "valid_game_ids = [g.id for g in games if possible(g, GameSet(12, 13, 14))]\n",
    "print(sum(valid_game_ids))\n"
   ]
  },
  {
   "cell_type": "markdown",
   "metadata": {},
   "source": [
    "### Part 2: Finding mimimum possible cubes and summing power of these sets"
   ]
  },
  {
   "cell_type": "code",
   "execution_count": 7,
   "metadata": {},
   "outputs": [
    {
     "name": "stdout",
     "output_type": "stream",
     "text": [
      "2286\n"
     ]
    }
   ],
   "source": [
    "def minimum_possible_cubes(game: Game) -> GameSet:\n",
    "    game_min = GameSet(0,0,0)\n",
    "\n",
    "    for gameset in game.sets:\n",
    "        game_min = max_set(game_min, gameset)\n",
    "\n",
    "    return game_min\n",
    "\n",
    "def game_power(game: Game) -> int:\n",
    "    s = minimum_possible_cubes(game)\n",
    "    return s.red * s.green * s.blue\n",
    "\n",
    "print(sum([game_power(g) for g in games]))"
   ]
  },
  {
   "cell_type": "markdown",
   "metadata": {},
   "source": [
    "# Day 3: Gear Ratios"
   ]
  },
  {
   "cell_type": "markdown",
   "metadata": {},
   "source": [
    "### Utils"
   ]
  },
  {
   "cell_type": "code",
   "execution_count": 27,
   "metadata": {},
   "outputs": [],
   "source": [
    "\n",
    "@dataclass\n",
    "class Coord():\n",
    "    row: int\n",
    "    col: int\n",
    "\n",
    "\n",
    "StringMatrix = list[str]\n",
    "\n",
    "def getAdjecent(coord: Coord, total_rows: int, total_cols: int) -> list[Coord] :\n",
    "    result = []\n",
    "    \n",
    "    neighbouring_left = coord.col > 0\n",
    "    neighbouring_right = coord.col < total_cols\n",
    "    neighbouring_up = coord.row > 0\n",
    "    neighbouring_down = coord.row < total_rows\n",
    "\n",
    "    if neighbouring_up:\n",
    "        if neighbouring_left:\n",
    "            result.append(Coord(coord.row - 1, coord.col - 1))\n",
    "        \n",
    "        result.append(Coord(coord.row - 1, coord.col))\n",
    "\n",
    "        if neighbouring_right:\n",
    "            result.append(Coord(coord.row - 1, coord.col + 1))\n",
    "    \n",
    "    if neighbouring_left:\n",
    "        result.append(Coord(coord.row, coord.col - 1))\n",
    "\n",
    "    if neighbouring_right:\n",
    "        result.append(Coord(coord.row, coord.col + 1))\n",
    "\n",
    "    if neighbouring_down:\n",
    "        if neighbouring_left:\n",
    "            result.append(Coord(coord.row + 1, coord.col - 1))\n",
    "        \n",
    "        result.append(Coord(coord.row + 1, coord.col))\n",
    "\n",
    "        if neighbouring_right:\n",
    "            result.append(Coord(coord.row + 1, coord.col + 1))\n",
    "\n",
    "    return result\n",
    "\n",
    "def get_char(data: StringMatrix, coord: Coord) -> str:\n",
    "    return data[coord.row][coord.col]\n",
    "\n",
    "def is_digit(data: StringMatrix, coord: Coord) -> bool:\n",
    "    return get_char(data, coord).isdigit()\n",
    "\n",
    "def getIntIndex(data: StringMatrix, coord: Coord) -> (int,int):\n",
    "    found_first = False\n",
    "    found_last = False \n",
    "\n",
    "    f_index = coord.col\n",
    "    l_index = coord.col\n",
    "\n",
    "    while not found_first:\n",
    "        candidate = f_index - 1\n",
    "        if candidate >= 0 and data[coord.row][candidate].isdigit():\n",
    "            f_index = candidate\n",
    "        else:\n",
    "            found_first = True\n",
    "\n",
    "    while not found_last:\n",
    "        candidate = l_index + 1\n",
    "        if candidate < len(data[coord.row]) and data[coord.row][candidate].isdigit():\n",
    "            l_index = candidate\n",
    "        else:\n",
    "            found_last = True\n",
    "\n",
    "    return f_index, l_index\n",
    "\n",
    "def remove_data(data: StringMatrix, row, begin, end):\n",
    "    current = data[row]\n",
    "    data[row] = current[:begin] + 'x' * (end + 1 - begin) + current[end+1:]\n",
    "\n"
   ]
  },
  {
   "cell_type": "markdown",
   "metadata": {},
   "source": [
    "### Part 1"
   ]
  },
  {
   "cell_type": "code",
   "execution_count": 28,
   "metadata": {},
   "outputs": [
    {
     "name": "stdout",
     "output_type": "stream",
     "text": [
      "4361\n"
     ]
    }
   ],
   "source": [
    "def is_symbol(data: StringMatrix, coord: Coord) -> bool:\n",
    "    symbols = [\"+\",\"*\",\"#\",\"$\",\"%\",\"@\",\"#\",\"&\",\"=\",\"-\",'/']\n",
    "    return get_char(data, coord) in symbols\n",
    "\n",
    "result = 0\n",
    "data = read_file(\"day3/example.txt\")\n",
    "for row in range(len(data)):\n",
    "    for col in range(len(data[row])):\n",
    "        c = Coord(row, col)\n",
    "        if is_symbol(data, c):\n",
    "            adjecents = getAdjecent(c, len(data), len(data[row]))\n",
    "\n",
    "            for a in adjecents:\n",
    "                if is_digit(data, a):\n",
    "                    first, last = getIntIndex(data, a)\n",
    "                    number = int(data[a.row][first:last+1])\n",
    "                    result += number\n",
    "                    remove_data(data, a.row, first, last)\n",
    "\n",
    "print(result)"
   ]
  },
  {
   "cell_type": "markdown",
   "metadata": {},
   "source": [
    "### Part 2 - find gears"
   ]
  },
  {
   "cell_type": "code",
   "execution_count": 29,
   "metadata": {},
   "outputs": [
    {
     "name": "stdout",
     "output_type": "stream",
     "text": [
      "467835\n"
     ]
    }
   ],
   "source": [
    "def is_gear(data: StringMatrix, coord: Coord) -> bool:\n",
    "    return get_char(data, coord) == '*'\n",
    "\n",
    "result = 0\n",
    "data = read_file(\"day3/example.txt\")\n",
    "for row in range(len(data)):\n",
    "    for col in range(len(data[row])):\n",
    "        c = Coord(row, col)\n",
    "        if is_gear(data, c):\n",
    "            adjecents = getAdjecent(c, len(data), len(data[row]))\n",
    "            \n",
    "            numbers = []\n",
    "\n",
    "            data_before = data\n",
    "\n",
    "            for a in adjecents:\n",
    "                if is_digit(data, a):\n",
    "                    first, last = getIntIndex(data, a)\n",
    "                    number = int(data[a.row][first:last+1])\n",
    "                    numbers.append(number)\n",
    "                    remove_data(data, a.row, first, last)\n",
    "\n",
    "            if len(numbers) == 2:\n",
    "                result += numbers[0] * numbers[1]\n",
    "            else: \n",
    "                # No gear! Restore data\n",
    "                data = data_before\n",
    "print(result)"
   ]
  },
  {
   "cell_type": "markdown",
   "metadata": {},
   "source": [
    "# Day 4: Scratchcards"
   ]
  },
  {
   "cell_type": "markdown",
   "metadata": {},
   "source": [
    "### Part 1"
   ]
  },
  {
   "cell_type": "code",
   "execution_count": 11,
   "metadata": {},
   "outputs": [
    {
     "name": "stdout",
     "output_type": "stream",
     "text": [
      "13\n"
     ]
    }
   ],
   "source": [
    "@dataclass\n",
    "class Card():\n",
    "    id: int\n",
    "    winning_numbers: set[int]\n",
    "    numbers: set[int]\n",
    "    \n",
    "def parse_card(line: str) -> Card:\n",
    "    card_nr_str, rest = line.split(\":\")\n",
    "    c = Card(int(card_nr_str[5:].strip()), [], [])\n",
    "\n",
    "    winning_str, numbers_str = rest.split(\"|\")\n",
    "    c.winning_numbers = {int(n.strip()) for n in winning_str.split()}\n",
    "    c.numbers = {int(n.strip()) for n in numbers_str.split()}\n",
    "\n",
    "    return c\n",
    "\n",
    "def worth(c: Card) -> int:\n",
    "    wins = c.numbers.intersection(c.winning_numbers)\n",
    "    return 0 if len(wins) == 0 else pow(2, len(wins) - 1)\n",
    "\n",
    "data = read_file(\"day4/example.txt\")\n",
    "cards = [parse_card(l) for l in data]\n",
    "winnings = [worth(c) for c in cards]\n",
    "print(sum(winnings))\n"
   ]
  },
  {
   "cell_type": "markdown",
   "metadata": {},
   "source": [
    "### Part 2"
   ]
  },
  {
   "cell_type": "code",
   "execution_count": 12,
   "metadata": {},
   "outputs": [
    {
     "name": "stdout",
     "output_type": "stream",
     "text": [
      "30\n"
     ]
    }
   ],
   "source": [
    "@dataclass\n",
    "class Card():\n",
    "    id: int\n",
    "    winning_numbers: set[int]\n",
    "    numbers: set[int]\n",
    "    copies: int\n",
    "    \n",
    "def parse_card(line: str) -> Card:\n",
    "    card_nr_str, rest = line.split(\":\")\n",
    "    c = Card(int(card_nr_str[5:].strip()), [], [], 1)\n",
    "\n",
    "    winning_str, numbers_str = rest.split(\"|\")\n",
    "    c.winning_numbers = {int(n.strip()) for n in winning_str.split()}\n",
    "    c.numbers = {int(n.strip()) for n in numbers_str.split()}\n",
    "\n",
    "    return c\n",
    "\n",
    "def wins(c: Card) -> int:\n",
    "    wins = len(c.numbers.intersection(c.winning_numbers))\n",
    "    return range(c.id, c.id+wins)\n",
    "      \n",
    "\n",
    "data = read_file(\"day4/example.txt\")\n",
    "cards = [parse_card(l) for l in data]\n",
    "for card in cards:\n",
    "    new_copies = wins(card)\n",
    "    for id in new_copies:\n",
    "        if id < len(cards):\n",
    "            cards[id].copies += card.copies\n",
    "\n",
    "total = sum([c.copies for c in cards])\n",
    "print(total)"
   ]
  },
  {
   "cell_type": "markdown",
   "metadata": {},
   "source": [
    "# Day 5: If You Give A Seed A Fertilizer"
   ]
  },
  {
   "cell_type": "markdown",
   "metadata": {},
   "source": [
    "### Utils - shared code between Part 1 and Part 2"
   ]
  },
  {
   "cell_type": "code",
   "execution_count": 13,
   "metadata": {},
   "outputs": [],
   "source": [
    "import sys\n",
    "import operator\n",
    "\n",
    "@dataclass\n",
    "class Table_item():\n",
    "    destination_range_start: int\n",
    "    source_range_start: int\n",
    "    range_length: int\n",
    "\n",
    "def within (src: int, entry: Table_item) -> int:\n",
    "    src_delta = src - entry.source_range_start\n",
    "    if src_delta >= 0 and src_delta < entry.range_length:\n",
    "        return entry.destination_range_start + src_delta\n",
    "    return -1\n",
    "\n",
    "def parse_tables(lines: list[str]) -> dict[str, list[Table_item]]:\n",
    "    tables = {}\n",
    "\n",
    "    parsing_map = False    \n",
    "    current_map = ''\n",
    "\n",
    "    for line in lines:\n",
    "        if len(line) == 0:\n",
    "            parsing_map = False\n",
    "            if current_map:\n",
    "                current_map = ''\n",
    "            continue\n",
    "        if not parsing_map and ' map:' in line:\n",
    "            current_map = line.split(\" map:\")[0]\n",
    "            parsing_map = True\n",
    "            continue\n",
    "\n",
    "        if parsing_map:\n",
    "            d, s, r = [int(x) for x in line.split()]\n",
    "            \n",
    "            if not current_map in tables:\n",
    "                tables[current_map] = []\n",
    "            \n",
    "            tables[current_map].append(Table_item(d, s, r))\n",
    "    \n",
    "    for table in tables.values():\n",
    "        table.sort(key=operator.attrgetter('source_range_start'))\n",
    "\n",
    "    return tables\n",
    "\n",
    "def populate_seeds(seed_ids: list[int], tables: dict[str, list[Table_item]]) -> list[list[int]]:\n",
    "    seeds = [[id] + [-1] * 7 for id in seed_ids]\n",
    "    keys = ['seed-to-soil', 'soil-to-fertilizer', 'fertilizer-to-water', 'water-to-light', 'light-to-temperature', 'temperature-to-humidity', 'humidity-to-location']\n",
    "    \n",
    "    for seed in seeds:\n",
    "        for i, key in enumerate(keys, 1):\n",
    "            src = i-1\n",
    "            dst = i\n",
    "            \n",
    "            seed[dst] = seed[src] # Default to prev value\n",
    "\n",
    "            for entry in tables[key]:\n",
    "                v = within(seed[src], entry)\n",
    "                if v > -1:\n",
    "                    seed[dst] = v\n",
    "                    break\n",
    "    \n",
    "    return seeds\n",
    "\n",
    "def find_lowest_location(seeds: list[list[int]]) -> int:\n",
    "    lowest_location = sys.maxsize\n",
    "\n",
    "    for seed in seeds:\n",
    "        lowest_location = min(lowest_location, seed[7]) # Location at index 7\n",
    "\n",
    "    return lowest_location\n"
   ]
  },
  {
   "cell_type": "markdown",
   "metadata": {},
   "source": [
    "### Part 1"
   ]
  },
  {
   "cell_type": "code",
   "execution_count": 14,
   "metadata": {},
   "outputs": [
    {
     "name": "stdout",
     "output_type": "stream",
     "text": [
      "35\n"
     ]
    }
   ],
   "source": [
    "def parse_seeds(line: str) -> list[int]:\n",
    "    return [int(x) for x in line[7:].split()]\n",
    "\n",
    "data = read_file(\"day5/example.txt\")\n",
    "seed_ids = parse_seeds(data[0])\n",
    "tables = parse_tables(data[1:])\n",
    "seeds = populate_seeds(seed_ids, tables)\n",
    "print(find_lowest_location(seeds))"
   ]
  },
  {
   "cell_type": "markdown",
   "metadata": {},
   "source": [
    "### Part 2\n",
    "Needed to solve it based on seed ranges instead of simulating every seed. The solution from part 1 when applied to part 2 was too slow"
   ]
  },
  {
   "cell_type": "code",
   "execution_count": 15,
   "metadata": {},
   "outputs": [
    {
     "name": "stdout",
     "output_type": "stream",
     "text": [
      "46\n"
     ]
    }
   ],
   "source": [
    "@dataclass\n",
    "class Number_Range():\n",
    "    start: int\n",
    "    length: int\n",
    "\n",
    "def parse_seeds(line: str) -> list[Number_Range]:\n",
    "    seed_numbers = [int(x) for x in line[7:].split()]\n",
    "    \n",
    "    seeds = []\n",
    "    for i in range(0, len(seed_numbers), 2):\n",
    "        seeds.append(Number_Range(seed_numbers[i], seed_numbers[i+1]))\n",
    "\n",
    "    seeds.sort(key=operator.attrgetter('start'))\n",
    "    return seeds\n",
    "\n",
    "def convert_range(range: Number_Range, entry: Table_item) -> (Number_Range | None, Number_Range | None, Number_Range | None):\n",
    "    range_end = range.start + range.length\n",
    "    entry_end = entry.source_range_start + entry.range_length\n",
    "\n",
    "    if range_end < entry.source_range_start:\n",
    "        below = range\n",
    "        return below, None, None\n",
    "    \n",
    "    if entry_end <= range.start:\n",
    "        above = range\n",
    "        return None, None, above\n",
    "\n",
    "    # all within\n",
    "    if range.start >= entry.source_range_start and range_end <= entry_end:\n",
    "        start_delta = range.start - entry.source_range_start\n",
    "        converted = Number_Range(entry.destination_range_start + start_delta, range.length)\n",
    "        return None, converted, None\n",
    "    \n",
    "    if range.start < entry.source_range_start and range_end <= entry_end:\n",
    "        delta = entry.source_range_start - range.start\n",
    "        below = Number_Range(range.start, delta)\n",
    "        converted = Number_Range(entry.destination_range_start, range.length - delta)\n",
    "        return below, converted, None\n",
    "\n",
    "    if range.start >= entry.source_range_start and range_end > entry_end:\n",
    "        delta = range_end - entry_end\n",
    "        above = Number_Range(entry_end, delta)\n",
    "        delta_start = range.start - entry.source_range_start\n",
    "        converted = Number_Range(entry.destination_range_start + delta_start, range.length - delta)\n",
    "        return None, converted, above\n",
    "\n",
    "    if range.start < entry.source_range_start and range_end > entry_end:\n",
    "        delta_b = entry.source_range_start - range.start\n",
    "        below = Number_Range(range.start, delta_b)\n",
    "\n",
    "        delta_a = range_end - entry_end\n",
    "        above = Number_Range(entry_end, delta_a)\n",
    "        \n",
    "        converted = Number_Range(entry.destination_range_start, entry.range_length)\n",
    "        return below, converted, above\n",
    "    \n",
    "def lookup(range: Number_Range, table: list[Table_item]) -> list[Number_Range]:\n",
    "    # We assume that table is sorted based on source start\n",
    "\n",
    "    remaining = range\n",
    "    processed = []\n",
    "    for entry in table:\n",
    "        below, converted, above = convert_range(remaining, entry)\n",
    "\n",
    "        if below:\n",
    "            processed.append(below)\n",
    "\n",
    "        if converted:\n",
    "            processed.append(converted)\n",
    "        \n",
    "        remaining = above\n",
    "\n",
    "        if not remaining:\n",
    "            break\n",
    "\n",
    "    if remaining:\n",
    "        processed.append(remaining)\n",
    "    \n",
    "    return processed\n",
    "\n",
    "def solve(seeds: list[Number_Range], tables: dict[str, list[Table_item]]) -> int:\n",
    "    table_names = ['seed-to-soil', 'soil-to-fertilizer', 'fertilizer-to-water', 'water-to-light', 'light-to-temperature', 'temperature-to-humidity', 'humidity-to-location']\n",
    "    \n",
    "    unprocessed_range = seeds\n",
    "    proccessed = []\n",
    "\n",
    "    for name in table_names:\n",
    "        proccessed = []\n",
    "        for nr in unprocessed_range:\n",
    "            proccessed.extend(lookup(nr, tables[name]))\n",
    "\n",
    "        unprocessed_range = proccessed\n",
    "    \n",
    "    min_location = sys.maxsize\n",
    "    for x in proccessed:\n",
    "        min_location = min(min_location, x.start)\n",
    "\n",
    "    return min_location\n",
    "\n",
    "data = read_file(\"day5/example.txt\")\n",
    "seed_ranges = parse_seeds(data[0])\n",
    "tables = parse_tables(data[1:])\n",
    "\n",
    "lowest_location = solve(seed_ranges, tables)\n",
    "print(lowest_location)"
   ]
  },
  {
   "cell_type": "markdown",
   "metadata": {},
   "source": [
    "# Day 6: Wait For It"
   ]
  },
  {
   "cell_type": "markdown",
   "metadata": {},
   "source": [
    "### Shared code"
   ]
  },
  {
   "cell_type": "code",
   "execution_count": 16,
   "metadata": {},
   "outputs": [],
   "source": [
    "import re\n",
    "import math\n",
    "\n",
    "@dataclass\n",
    "class Record():\n",
    "    time: int\n",
    "    distance: int\n",
    "\n",
    "def distance(holdtime: int, total: int) -> int:\n",
    "    return holdtime * (total-holdtime)\n",
    "\n",
    "def ways_to_beat(race: Record) -> int:\n",
    "    wins = 0\n",
    "    half = int((race.time + 1) * 0.5)\n",
    "    first_beat = math.ceil(race.distance/race.time)\n",
    "    for i in range(first_beat,half):\n",
    "        if distance(i, race.time) > race.distance:\n",
    "            wins += 2\n",
    "    \n",
    "    return wins + (race.time + 1) % 2\n"
   ]
  },
  {
   "cell_type": "markdown",
   "metadata": {},
   "source": [
    "### Part 1"
   ]
  },
  {
   "cell_type": "code",
   "execution_count": 17,
   "metadata": {},
   "outputs": [
    {
     "data": {
      "text/plain": [
       "288"
      ]
     },
     "execution_count": 17,
     "metadata": {},
     "output_type": "execute_result"
    }
   ],
   "source": [
    "def line_to_numbers(line: str) -> list[int]:\n",
    "    return [int(s) for s in re.findall(\"\\D*(\\d+)\", line)]\n",
    "\n",
    "\n",
    "def parse_races(lines: list[str]) -> list[Record]:\n",
    "    times = line_to_numbers(lines[0])\n",
    "    distances = line_to_numbers(lines[1])\n",
    "    return [Record(time, distance) for time, distance in zip(times, distances)]\n",
    "\n",
    "data = read_file(\"day6/example.txt\")\n",
    "races = parse_races(data)\n",
    "\n",
    "math.prod([ways_to_beat(race) for race in races]) "
   ]
  },
  {
   "cell_type": "markdown",
   "metadata": {},
   "source": [
    "### Part 2"
   ]
  },
  {
   "cell_type": "code",
   "execution_count": 18,
   "metadata": {},
   "outputs": [
    {
     "name": "stdout",
     "output_type": "stream",
     "text": [
      "71503\n"
     ]
    }
   ],
   "source": [
    "def line_to_number(line: str) -> int:\n",
    "    return int(\"\".join([s for s in re.findall(\"\\D*(\\d+)\", line)]))\n",
    "\n",
    "\n",
    "def parse_race(lines: list[str]) -> Record:\n",
    "    time = line_to_number(lines[0])\n",
    "    distance = line_to_number(lines[1])\n",
    "    return Record(time, distance)\n",
    "\n",
    "data = read_file(\"day6/example.txt\")\n",
    "race = parse_race(data)\n",
    "wins = ways_to_beat(race)\n",
    "print(wins)"
   ]
  },
  {
   "cell_type": "markdown",
   "metadata": {},
   "source": [
    "# Day 7: Camel Cards "
   ]
  },
  {
   "cell_type": "markdown",
   "metadata": {},
   "source": [
    "### Part 1"
   ]
  },
  {
   "cell_type": "code",
   "execution_count": 19,
   "metadata": {},
   "outputs": [
    {
     "name": "stdout",
     "output_type": "stream",
     "text": [
      "6440\n"
     ]
    }
   ],
   "source": [
    "from enum import IntEnum\n",
    "from functools import cmp_to_key\n",
    "\n",
    "@dataclass\n",
    "class Player():\n",
    "    hand: str\n",
    "    bid: int\n",
    "\n",
    "\n",
    "class Card_type(IntEnum):\n",
    "    HIGH_CARD = 1\n",
    "    PAIR = 2\n",
    "    TWO_PAIR = 3\n",
    "    THREE_OF_A_KIND = 4\n",
    "    FULL_HOUSE = 5\n",
    "    FOUR_OF_A_KIND = 6\n",
    "    FIVE_OF_A_KIND = 7\n",
    "\n",
    "def parse_players(lines: list[str]) -> list[Player]:\n",
    "    pattern = re.compile(r'(.{5})\\s+(\\d*)')\n",
    "    players = []\n",
    "    for line in lines:\n",
    "        hand, bid = pattern.search(line).groups()\n",
    "        players.append(Player(hand, int(bid)))\n",
    "\n",
    "    return players\n",
    "\n",
    "def get_type(cards: str) -> Card_type:\n",
    "    unique_labels = set(cards)\n",
    "    \n",
    "    match len(unique_labels):\n",
    "        case 1:\n",
    "            return Card_type.FIVE_OF_A_KIND\n",
    "        case 2:\n",
    "            # Full house or Four of a kind\n",
    "            occurence = cards.count(unique_labels.pop())\n",
    "            if  occurence == 4 or occurence == 1:\n",
    "                return Card_type.FOUR_OF_A_KIND\n",
    "            return Card_type.FULL_HOUSE\n",
    "        case 3:\n",
    "            # Three of a kind or Two pair\n",
    "            occurence = cards.count(unique_labels.pop())\n",
    "\n",
    "            if occurence == 3:\n",
    "                return Card_type.THREE_OF_A_KIND\n",
    "            elif occurence == 2:\n",
    "                return Card_type.TWO_PAIR\n",
    "            else:\n",
    "                occurence = cards.count(unique_labels.pop())\n",
    "                if occurence == 2:\n",
    "                    return Card_type.TWO_PAIR\n",
    "                return Card_type.THREE_OF_A_KIND\n",
    "        case 4:\n",
    "            return Card_type.PAIR\n",
    "        case other:\n",
    "            return Card_type.HIGH_CARD\n",
    "\n",
    "def card_value(card: str):\n",
    "    match card:\n",
    "        case 'A':\n",
    "            return 14\n",
    "        case 'K':\n",
    "            return 13\n",
    "        case 'Q':\n",
    "            return 12\n",
    "        case 'J':\n",
    "            return 11\n",
    "        case 'T':\n",
    "            return 10\n",
    "        case other:\n",
    "            return int(card)\n",
    "\n",
    "\n",
    "def highest_card(a: str, b: str) -> int:\n",
    "    a_value = card_value(a)\n",
    "    b_value = card_value(b)\n",
    "    if a_value > b_value:\n",
    "        return 1\n",
    "    elif a_value < b_value:\n",
    "        return -1\n",
    "    return 0\n",
    "\n",
    "def compare_hand_value(A: str, B: str) -> int:\n",
    "    for a,b in zip(A, B):\n",
    "        if a != b:\n",
    "            return highest_card(a,b)\n",
    "    return 0\n",
    "\n",
    "def compare_type(a: str, b: str) -> int:\n",
    "    a_type = get_type(a)\n",
    "    b_type = get_type(b)\n",
    "    if a_type > b_type:\n",
    "        return 1\n",
    "    elif a_type < b_type:\n",
    "        return -1\n",
    "    return 0\n",
    "\n",
    "def compare_hands(a: Player, b: Player) -> int:\n",
    "    return compare_type(a.hand,b.hand) or compare_hand_value(a.hand, b.hand)\n",
    "    \n",
    "\n",
    "data = read_file(\"day7/example.txt\")\n",
    "players = parse_players(data)\n",
    "sorted_players = sorted(players, key=cmp_to_key(compare_hands))\n",
    "bids = [rank * player.bid for rank, player in enumerate(sorted_players, 1)]\n",
    "print(sum(bids))    "
   ]
  },
  {
   "cell_type": "markdown",
   "metadata": {},
   "source": [
    "### Part 2"
   ]
  },
  {
   "cell_type": "code",
   "execution_count": 20,
   "metadata": {},
   "outputs": [
    {
     "name": "stdout",
     "output_type": "stream",
     "text": [
      "5905\n"
     ]
    }
   ],
   "source": [
    "def card_value(card: str):\n",
    "    match card:\n",
    "        case 'A':\n",
    "            return 14\n",
    "        case 'K':\n",
    "            return 13\n",
    "        case 'Q':\n",
    "            return 12\n",
    "        case 'J':\n",
    "            return 1\n",
    "        case 'T':\n",
    "            return 10\n",
    "        case other:\n",
    "            return int(card)\n",
    "\n",
    "def get_type(cards: str) -> Card_type:\n",
    "    unique_labels = set(cards)\n",
    "\n",
    "    wildcards = 0\n",
    "    if \"J\" in unique_labels:\n",
    "        unique_labels.remove(\"J\")\n",
    "        wildcards = cards.count(\"J\")\n",
    "    \n",
    "    match len(unique_labels):\n",
    "        case 0:\n",
    "            return Card_type.FIVE_OF_A_KIND\n",
    "        case 1:\n",
    "            return Card_type.FIVE_OF_A_KIND\n",
    "        case 2:\n",
    "            sorted_cards = sorted([cards.count(c) for c in unique_labels], reverse=True)\n",
    "            if (sorted_cards[0] + wildcards) == 4:\n",
    "                return Card_type.FOUR_OF_A_KIND\n",
    "            return Card_type.FULL_HOUSE\n",
    "        case 3:\n",
    "            sorted_cards = sorted([cards.count(c) for c in unique_labels], reverse=True)\n",
    "            if (sorted_cards[0] + wildcards) == 3:\n",
    "                return Card_type.THREE_OF_A_KIND\n",
    "            return Card_type.TWO_PAIR\n",
    "\n",
    "        case 4:\n",
    "            return Card_type.PAIR\n",
    "        case other:\n",
    "            return Card_type.HIGH_CARD\n",
    "\n",
    "data = read_file(\"day7/example.txt\")\n",
    "players = parse_players(data)\n",
    "sorted_players = sorted(players, key=cmp_to_key(compare_hands))\n",
    "bids = [rank * player.bid for rank, player in enumerate(sorted_players, 1)]\n",
    "print(sum(bids))    "
   ]
  },
  {
   "cell_type": "markdown",
   "metadata": {},
   "source": [
    "# Day 8: Haunted Wasteland"
   ]
  },
  {
   "cell_type": "markdown",
   "id": "c91ef467",
   "metadata": {},
   "source": [
    "### Part 1"
   ]
  },
  {
   "cell_type": "code",
   "execution_count": 21,
   "id": "c9bf5349",
   "metadata": {},
   "outputs": [
    {
     "name": "stdout",
     "output_type": "stream",
     "text": [
      "2\n"
     ]
    }
   ],
   "source": [
    "@dataclass\n",
    "class Node():\n",
    "    label: str\n",
    "    left: str\n",
    "    right: str\n",
    "\n",
    "def parse_data(lines: list[str]) -> (str, dict[str, Node]):\n",
    "    tree = {}\n",
    "    for line in lines[2:]:\n",
    "        label, left, right = re.findall(r'(\\w{3})',line)\n",
    "        tree[label] = Node(label, left, right)\n",
    "\n",
    "    return lines[0], tree\n",
    "\n",
    "def start(tree: dict[str, Node]) -> Node:\n",
    "    return tree['AAA']\n",
    "\n",
    "def go_to_zzz(tree: dict[str, Node], instructions: str) -> int:\n",
    "    current_node = start(tree)\n",
    "\n",
    "    steps = 0\n",
    "    while(current_node.label != 'ZZZ'):\n",
    "        s = instructions[steps % len(instructions)]\n",
    "        steps += 1\n",
    "        current_node = tree[current_node.left] if s == \"L\" else tree[current_node.right]\n",
    "    \n",
    "    return steps\n",
    "\n",
    "data = read_file(\"Day8/example1.txt\")\n",
    "\n",
    "instructions, tree = parse_data(data)\n",
    "steps = go_to_zzz(tree, instructions)\n",
    "print(steps)\n"
   ]
  },
  {
   "cell_type": "markdown",
   "id": "46c092fe",
   "metadata": {},
   "source": [
    "### Part 2\n",
    "\n",
    "\n",
    "This solution was my second attempt.\n",
    "This solution finds first cycle and returns the steps to the last found Z. In my input the Z:s was right before the cycle wrapt around.\n",
    "\n",
    "So I calculate the number of steps until I reach this Z for each A. Then I find the least common multiple between these steps.\n",
    "\n",
    "I tried a multithreaded solution first, where I spawn a worker for each start, ran it for 10^6 steps and compared the output, but after looking for the answer for 60 min I gave up and tried this solution.\n"
   ]
  },
  {
   "cell_type": "code",
   "execution_count": 22,
   "id": "5fcdb642",
   "metadata": {},
   "outputs": [
    {
     "name": "stdout",
     "output_type": "stream",
     "text": [
      "6\n"
     ]
    }
   ],
   "source": [
    "def starts(tree) -> list[Node]:\n",
    "    return [node for node in tree.values() if node.label.endswith('A')]\n",
    "\n",
    "def goal_reached(nodes: list[Node]) -> bool:\n",
    "    return all([n.label.endswith(\"Z\") for n in nodes]) \n",
    "\n",
    "def next_node(node: Node, tree: list[Node], instruction: str) -> Node:\n",
    "    return tree[node.left] if instruction == \"L\" else tree[node.right]\n",
    "\n",
    "def find_cycle(tree: dict[str, Node], start: Node, instructions: str) -> int:\n",
    "    current_node = start\n",
    "    visited = {}\n",
    "\n",
    "    steps = 0\n",
    "    while f\"{steps % len(instructions)}_{current_node.label}\" not in visited:\n",
    "        k = f\"{steps % len(instructions)}_{current_node.label}\"\n",
    "        visited[k] = steps\n",
    "        s = instructions[steps % len(instructions)]\n",
    "        steps += 1\n",
    "        current_node = next_node(current_node, tree, s)\n",
    "    \n",
    "\n",
    "    zs = [n for n in visited.keys() if n.endswith(\"Z\")]\n",
    "    \n",
    "    # My input only had 1 z in the entire cycle, and it was at step 0 modulos len of instructions.\n",
    "    # The reason I return last z in list of zs is to make it work with the example that had 2 z in one cycle.\n",
    "    # I.E this algorithm is not generic but works for the example and my input \n",
    "    return visited[zs[-1]]\n",
    "\n",
    "\n",
    "def go_to_all_ending_with_z(tree: dict[str, Node], instructions: str) -> int:\n",
    "    z_cycles = [find_cycle(tree, node, instructions) for node in starts(tree)]\n",
    "    \n",
    "    return math.lcm(*z_cycles)\n",
    "\n",
    "data = read_file(\"Day8/example3.txt\")\n",
    "instructions, tree = parse_data(data)\n",
    "steps = go_to_all_ending_with_z(tree, instructions)\n",
    "print(steps)\n"
   ]
  },
  {
   "cell_type": "markdown",
   "id": "b9ae0468",
   "metadata": {},
   "source": [
    "# Day 9: Mirage Maintenance"
   ]
  },
  {
   "cell_type": "code",
   "execution_count": 23,
   "id": "3f20f4c5",
   "metadata": {},
   "outputs": [
    {
     "name": "stdout",
     "output_type": "stream",
     "text": [
      "114\n"
     ]
    }
   ],
   "source": [
    "def parse_sequence(line: str) -> list[int]:\n",
    "    return [int(x) for x in line.split()]\n",
    "\n",
    "def parse_sequences(lines: list[str]) -> list[list[int]]:\n",
    "    return [parse_sequence(line) for line in lines]\n",
    "\n",
    "def difference(sequence: list[int]) -> list[int]:\n",
    "    return [sequence[i+1] - sequence[i] for i in range(len(sequence)-1)]\n",
    "\n",
    "def predict_next(sequence: list[int]) -> int:\n",
    "    ds = [difference(sequence)]\n",
    "    \n",
    "    while any(ds[-1]):\n",
    "        d = difference(ds[-1])\n",
    "        ds.append(d)\n",
    "\n",
    "    last = [d[-1] for d in ds]\n",
    "    return sum(last) + sequence[-1]\n",
    "\n",
    "data = read_file(\"Day9/example.txt\")\n",
    "sequences = parse_sequences(data)\n",
    "\n",
    "res = sum([predict_next(s) for s in sequences])\n",
    "print(res)"
   ]
  },
  {
   "cell_type": "markdown",
   "id": "cbb83070",
   "metadata": {},
   "source": [
    "### Part 2\n",
    "\n",
    "I implemented a *predict backwards* function in this part, but Amanda showed me that I could just reverse the sequence and re-use my *predict next* from part 1, anyway, this works, yay!"
   ]
  },
  {
   "cell_type": "code",
   "execution_count": 24,
   "id": "cddfc2df",
   "metadata": {},
   "outputs": [
    {
     "name": "stdout",
     "output_type": "stream",
     "text": [
      "2\n"
     ]
    }
   ],
   "source": [
    "from functools import reduce  # omit on Python 2\n",
    "\n",
    "def predict_backwards(sequence: list[int]) -> int:\n",
    "    ds = [difference(sequence)]\n",
    "    \n",
    "    while any(ds[-1]):\n",
    "        d = difference(ds[-1])\n",
    "        ds.append(d)\n",
    "\n",
    "    first = [d[0] for d in ds[::-1]]\n",
    "    first.append(sequence[0])\n",
    "\n",
    "    return reduce(lambda x, y: y-x, first)\n",
    "\n",
    "data = read_file(\"Day9/example.txt\")\n",
    "sequences = parse_sequences(data)\n",
    "\n",
    "res = sum(([predict_backwards(s) for s in sequences]))\n",
    "print(res)"
   ]
  },
  {
   "cell_type": "markdown",
   "id": "75e28cb1",
   "metadata": {},
   "source": [
    "# Day 10: Pipe Maze"
   ]
  },
  {
   "cell_type": "code",
   "execution_count": 113,
   "id": "c3d93dd9",
   "metadata": {},
   "outputs": [
    {
     "name": "stdout",
     "output_type": "stream",
     "text": [
      "4\n"
     ]
    }
   ],
   "source": [
    "@dataclass(frozen=True, slots=True)\n",
    "class Position():\n",
    "    row: int\n",
    "    col: int\n",
    "\n",
    "@dataclass\n",
    "class Tile():\n",
    "    pos: Position\n",
    "    connections: list[Position]\n",
    "    chr: str\n",
    "\n",
    "# Pad the matrix with dots to avoid handling out of bounds issues\n",
    "def pad(maze: list[str], chr='x') -> list[str]:\n",
    "    rows = len(maze)\n",
    "    y_pad = [chr * (rows + 2)]\n",
    "    return y_pad + [chr + row + chr for row in maze] + y_pad\n",
    "\n",
    "def get_chr(maze: list[str], position: Position) -> str:\n",
    "    return maze[position.row][position.col]\n",
    "\n",
    "def get_connections_offset(chr: str) -> list[Position]:\n",
    "    match chr:\n",
    "        case '|':\n",
    "            return [Position(-1, 0), Position(1,0)]\n",
    "        case '-':\n",
    "            return [Position(0, -1), Position(0, 1)]\n",
    "        case 'L':\n",
    "            return [Position(-1, 0), Position(0,1)]\n",
    "        case 'J':\n",
    "            return [Position(-1, 0), Position(0,-1)]\n",
    "        case '7':\n",
    "            return [Position(1, 0), Position(0, -1)]\n",
    "        case 'F':\n",
    "            return [Position(1, 0), Position(0,1)]\n",
    "        # case '.':\n",
    "        #     return []\n",
    "        case 'S':\n",
    "            return [Position(1,0), Position(-1,0), Position(0,-1), Position(0,1)]\n",
    "        case _:\n",
    "            return []\n",
    "        \n",
    "def add(a: Position, b: Position) -> Position:\n",
    "    return Position(a.row + b.row, a.col + b.col)\n",
    "        \n",
    "def get_tile(maze: list[str], position: Position):\n",
    "    chr = get_chr(maze, position)\n",
    "    return Tile(position, [add(position, offset) for offset in get_connections_offset(chr)], chr)\n",
    "\n",
    "def find_start(lines: list[str]) -> Tile:\n",
    "    for row, line in enumerate(lines[1:-2],1):\n",
    "        for col, chr in enumerate(line[1:-2],1):\n",
    "            if chr == 'S':\n",
    "                pos = Position(row, col)\n",
    "                return get_tile(lines, pos)\n",
    "\n",
    "def next(t: Tile, prev: Position) -> Position | None:\n",
    "    connection = [x for x in t.connections if x.row != prev.row or x.col != prev.col]\n",
    "    return None if not len(connection) else connection.pop()\n",
    "\n",
    "def loop_length(start: Tile, maze: list[str]) -> int:\n",
    "\n",
    "    # Start with last connection (For some reason, I got the wrong count when starting with an other connection)\n",
    "    # This was the right answer so I didn't debug more but coninued with part 2\n",
    "    for connection_start in start.connections[::-1]:\n",
    "        i = 1\n",
    "        prev_pos = start.pos\n",
    "        current_pos = connection_start\n",
    "        while current_pos:\n",
    "            current = get_tile(maze, current_pos)\n",
    "            if current.chr == start.chr:\n",
    "                return i\n",
    "\n",
    "            i += 1\n",
    "            temp = next(current, prev_pos)\n",
    "            prev_pos = current_pos\n",
    "            current_pos = temp\n",
    "    \n",
    "    return -1 # No connection is leading to start\n",
    "\n",
    "data = read_file(\"day10/example1.txt\")\n",
    "padded = pad(data)\n",
    "\n",
    "start = find_start(padded)\n",
    "l = loop_length(start, padded)\n",
    "print(int(l * 0.5))"
   ]
  },
  {
   "cell_type": "markdown",
   "id": "ff5c1454",
   "metadata": {},
   "source": [
    "# Part 2\n",
    "\n",
    "This solution also contain a bug, as it don't handle all the example cases. But it works for some and for my puzzle input. \n",
    "Pherhaps I will revisit this in the future to fix the bugs (probably not)"
   ]
  },
  {
   "cell_type": "code",
   "execution_count": 151,
   "id": "6f59cd77",
   "metadata": {},
   "outputs": [
    {
     "name": "stdout",
     "output_type": "stream",
     "text": [
      "                                                                                                                                              \n",
      "                                                                                                                                              \n",
      "                                                                                                                                              \n",
      "                                                                                                                                              \n",
      "                                                                                                                                              \n",
      "                                                                                                                                              \n",
      "                                                                                                                                              \n",
      "                                               F7               F7 F--7         F7                                                            \n",
      "                                               |L7            F-JL7L7FJ     F7F7||F7F7                                                        \n",
      "                                         F7  F7|FJ            L--7|FJL7     |LJ||LJ|||F7       F7                                             \n",
      "                                         ||F-J||L-7            F7|||F-J     L-7|L7FJ|||L7   F7FJ|                                             \n",
      "                              F7   F--7F7||L-7LJF-J   F7  F7F7FJLJ||L--7    F-J|FJL-JLJFJ  FJLJFJ        F-7                                  \n",
      "                            F-J|   L7FJ||||F7L-7L7   FJ|F-JLJ|L--7LJF--J    |F7|L--7F-7|   L-7FJ        FJFJ                                  \n",
      "                            L7FJ    |L7|LJLJ| FJFJ F7L7|L--7FJF7 |F-J       LJ|L7F7|| LJ F7F-JL7F7      L7L7 F7                               \n",
      "                             ||F7  FJFJL-7F-JFJFJF7|| |L7F7||FJ|FJ|F-7F7   F7 |FJ|LJL7F7FJ|L7F-J|L7   F-7|FJFJ|                               \n",
      "                        F7   |||L-7L7|F7 |L7FJFJFJ||L7|FJ|||LJFJL7||FJ||F7FJL7|L7L-7FJ||L7|FJL-7L7|F7 L7LJL7|FJ                               \n",
      "                F----7  ||  FJ||F-JFJ||L7|FJL7L7L7LJFJ|L-J||F7L-7|||L7|||LJF-JL7|F-J|FJL7||L7F-JFJLJ|F7L-7FJ||F7 F7                           \n",
      "                L---7L--J|F7L7|||F7L7||FJ||F7L7|FJF-J |F--JLJL7FJ|LJFJ||L-7L-7 ||L-7|L7FJ|L7|L-7L7F-J|L-7|L-JLJ|FJ|                           \n",
      "                    L-7F7LJL7||||||FJLJL-J||| ||L7L7F7|L7F7 F7|| L-7| ||F7L-7|FJL7FJL-JL-JFJ|F-J |L-7L-7||F----J|FJ                           \n",
      "               F--7F-7||L--7|||||||L---7F7|||FJ|FJFJ|||FJ|L7|LJL--7|L-JLJ|F7||L7FJL--7F7F-JFJL7F7|F7|F-JLJL-----JL-7                          \n",
      "               L-7|L7|LJ F-JLJLJLJ|F--7||||||L7|L7L-J||L7L7|L----7LJF7F--J|||L7||F7F7LJ|L-7L-7|||||LJL-7F-7F----7F-J                          \n",
      "               F-J|FJL-7 L------7FJL-7LJ|LJ|L-JL7L--7LJFJFJ|F7 F7L7FJLJF7 ||L7||LJ||L-7|F-JF-JLJ||L7F-7LJFJL7F7 LJ F--7                       \n",
      "               L-7|L7F-JF-7F7F--JL7F7L7FJ  L-7F-JF7 L-7L7|FJ|L7||FJL-7 ||FJL7||L-7|L7FJ|L-7L-7F-J|FJ|FJF7L-7LJL7 F7|F7|    F7                 \n",
      "              F--JL7||F7L7|||L--7FJ|L7||F7F7 |L7FJ|F7 |FJ|L7|FJ||L7F-JFJ|L-7|||F-JL-JL-JF-JF-J|F7|| |L7|L-7|F-7|FJ|||LJ  F7||F-7              \n",
      "              L---7LJ||L-JLJ|F7 || |FJ||||||FJFJL7|||FJ|FJFJ||FJ|FJL-7L7L7FJLJ|L---7F---JF7L-7LJ||L7|FJL-7LJL7LJL7LJL7  FJ||||FJ   F7         \n",
      "             F-7F7L7FJL----7|||FJ|FJ| |LJ|||L7|F7||||L7|L7L7||L7||F--J L7LJF-7|F---J| F7FJL7FJF-J|FJ|L7F7L-7FJ F7|F--JF7|FJ|||L7   ||         \n",
      "             L7LJL-JL7F----JLJ|L7LJFJFJF-J||FJ||||LJL-JL7L7||L7|||| F7F7|F7L7LJL---7|FJLJF7|L7| FJL7L7|||F7|L-7|||L7F-JLJL-JLJFJ  FJL7        \n",
      "              L---7F-JL-7F7F-7| L-7L7L7L7FJ|L7|||L-7F7F-J |LJFJ|||L7||||LJL7|F7F7F7|LJF--J||FJL7L-7|FJ||LJ||F-J|||FJ|F---7F-7FJF-7L7FJ        \n",
      "              F---JL7F-7LJLJ ||F--JFJFJFJL7|FJ||L7 LJ|L7F7L-7L7|LJFJ|LJL7  |||LJLJ||F-JF7 ||L-7L7FJ|L7|L-7LJL-7||||FJL-7 LJ || |FJFJL7        \n",
      "              L----7||FJF7 F7||L--7L7L7L-7|||FJ|FJF7 L7||L-7L7||F7L7L--7L7FJ|L--7FJ|L7 |L7LJF7L7|L7L7||F-JF---J|LJLJF--JF7F7||FJL7L7FJ        \n",
      "              F--7 |LJL-JL7|||| F-JFJFJF-J|||L7|L7||F-JLJF-J ||||L-JF7 L7|L7|F7 || L7L7L7L7FJ| || |FJ||L-7L-7 FJF7F-J F7||||LJL7FJFJL7        \n",
      "              L-7|FJF7F7F7LJLJL7L7FJFJFJF7|LJFJL7|||L-7F-JF7FJLJL-7FJL7FJ|FJLJ|FJL7 |FJFJFJ|FJFJ|FJ| ||F7|F-JFJFJLJF-7|LJLJL7F7||FJF7|        \n",
      "             F--JLJFJLJLJ|F7F-7L-J| L7| |||F7|F7||||F7||F7|LJF----J|F-JL7LJF-7|L-7L-J|FJFJFJL-JFJL7L7|||LJL7 L7L--7|FJ|F----J|||LJFJ||        \n",
      "          F--JF----JF7F--J||| L7F7L7FJ|FJ|LJ|||||||||||LJ|L-7|F7F-7|L7 FJF7L7LJF7L-7FJL7| L7F--J FJFJ||L7F7L7 |F--J|L7||F7F7 |LJF-J LJ        \n",
      "          L-7FJF----JLJF7FJLJF7LJL7LJFJL7L7FJ||||LJ||LJF-J FJLJ||FJL7|FJFJL-JF-J|F7|L7FJ|F-J|F7F7L7L7|L7||L-JFJL--7|FJ|||||L-JF7L7            \n",
      "            LJ L-7F--7FJLJF7FJL7F7|F7|F7|FJL7|||L7FJ|F-J F7L7F-J||F7||L7|F7F7|F-J|||FJ|FJL-7||||| |FJL7||| F7L7F--J||FJLJLJF-7||FJ            \n",
      "            F7F--J|F7|| F7||L-7LJ|LJ||||||F7||||FJL7||F-7||FJ|F-J||||L7||||||||F-J|||FJ|F--J||||L7|L7FJ||L-JL-JL---JLJF7F-7| LJLJ  F7         \n",
      "           FJ|L---J|LJ|FJLJ|F7L-7|F7||||||||||||L7I||||FJ|LJI||F-J|||FJ|||||||||F-J||L7|L7F-J|||ILJFJ|FJ|IF7F---------JLJ LJF7F7  FJ|F7       \n",
      "           L7|F7F-7|F-JL7F7LJL7FJLJLJLJ||LJ|||||FJFJ|||L7L-7FJ|L7FJ|||FJ||LJ|||||F7||FJ|FJ|F7|||F--JFJ|FJFJLJF-7F7F---------JLJL7 L7LJL7      \n",
      "      F7 F-7||||L7LJL7F-J||F-7LJF-----7|L7FJ|LJ|L7L7|||FJF7|L7L7||FJ|||FJL7ILJLJLJLJ||FJL7LJ||LJ|F-7L7||IL---JFJ|LJF--7F7F------JF7|F--J      \n",
      "     FJ| L7LJLJL7|F--JL-7|||FJF-J F---J|FJL7L-7|FJILJLJ|FJLJFJFJ||L7||||F7L-------7I|||F7|IFJL7FJ|FJFJ||F----7L-JF7|F7LJLJF------JLJL--7      \n",
      "     L7L7 L----7|LJF7F7FJ|LJ|FJ F-JF--7|L7IL7FJLJF7F---JL--7|FJILJFJ|||LJL7F-7F--7L7||LJ|L7L7FJL7|L7L7LJL---7|F7FJLJ||F---JF7F--7F7F7F7|      \n",
      "      L7L-7F7F7|L7FJ|||L-JF7LJF-JF7|F-JL-JF-JL-7FJLJF-7F7F-J|L-7F7L7||L-7I||FJL-7L7||L7FJFJILJF7||IL-JF----7||||L---JLJF-7FJ|L-7LJLJ||LJ      \n",
      "    F--JF-J|LJLJFJL7||L7F-JL7FJF-JLJL7F7F7L---7|L--7L7|||L-7L7FJ|L-J|L7FJFJ|L-7FJFJ|L-J|FJIF--JLJL-7F7L---7LJLJL----7F-JFJ| L-7L--7 ||        \n",
      "    L7F7L7FJF7F7L--JLJFJL-7FJL-J F7F-J|||L--7FJL-7FJFJ||L7FJI||IL7F7|I||FJFJF-J|IL7L--7LJF7L--7F7F-J||F7F7L7F7F----7|L-7L7L-7 |F-7| |L7       \n",
      "     ||L7LJFJLJL-7F--7| F-J|F7F--J|L--JLJF7FJL7F-JL7L7||I||F-JL7FJ||L7||L7L7L-7L7FJF7FJIFJL---J||L-7|||LJ|FJ|||F---J|F-J |F7L7LJ |L7L-J       \n",
      "     || |F7|F-7F-J| FJL7|F7|||L--7L---7F-J||IILJIF7|FJ|L7LJL7F7|L7|L-JLJIL7L-7|FJL7||L7FJF----7|L--J||L-7||FJLJL7F7 LJ F-J|L7L--7|FJ          \n",
      "     LJ ||||L7|L-7|FJF7|LJ|LJL---JF-7ILJF7|L7F---JLJL7L7L--7||||FJL-7F----JF7||L7FJ|L7|L7L7F--J|IF7I||IFJ|||F---J||F7F7L-7L7|F7FJ||           \n",
      "        LJLJFJL--J|L-J|L--JF--7F7FJ L---J||FJL7F--7F7L7L7F7|||||L7F-JL-7F7FJ||L7|L7|FJ|IL7|L--7|FJL7|L7L7|LJL-7F7|LJLJL-7|FJ||LJ || F7        \n",
      "          F7L--7F-JF--JF---JF7LJLJ  F7F7FJLJF7||F-J|L7|ILJLJLJ|L7||F---J||L7||FJL7||L7|F-J|IF-J|L-7|L7L-JL----J|LJF-----JLJ LJ   LJFJL--7     \n",
      "         FJL-7 LJF7L---JF---JL-7F-7FJLJLJF7I||||L-7|I|L---7F-7|FJLJ|F7F7||FJ||L7FJ|L7||L-7|FJF7|F-JL-JF------7FJF7L-7F--7F---7  F-7|F---J     \n",
      "         L--7L7 FJL-----JF7F-7FJL7|L-----JL-J|LJF7|L7|F7F7LJFJ|L--7LJ|||||L7|L7||FJFJ||F-J|L-J||L-7F-7L7F----J|FJL7FJ|F-J|F--J  L7LJL-7       \n",
      "            L7L-JF--7F-7FJLJFJL--JL----------JF7|LJFJ|||||F7L7|F7FJF-J||||FJL-JLJL7L7LJL7FJF-7LJF-JL7L-JL-----JL-7|| |L--JL7F7 F7L-7F-J       \n",
      "             L7F7L7 LJ ||F--JF7F7F7F---------7|||F7L7||LJ||L-JLJLJIL-7|LJ|L---7III|FJF7ILJIL7|F-JF7FJF7F7F---7F--JLJFJF7F7FJ|L7|L7FJL-7       \n",
      "          F---J|L7L7F7FJ|L---J||LJ||F-------7|||LJL7||L-7|L--------7FJL-7|F-7FJF--J|I||F7F7I||L-7|LJFJLJ|L--7LJF7F7 |FJLJLJ L7LJFJL7F-J       \n",
      "          L7F--J L7|||L7L7F---J|F-J|L--7IF7ILJ|L7F-J|L-7|L7F7F7F7F-JL7F7||L7LJIL--7|FJLJ|||FJL--JL7IL7F7L---JF-J||L7|L------7L7FJF7||  F--7   \n",
      "           ||F---7LJ|| |FJ|F-7FJL--JF-7L-JL7F-JFJL-7L-7|L7LJLJ|||L-7FJ|LJL7|IIIIIFJ|L--7||LJF-----JF7LJL7F---JF7LJFJ|F---7F7L-JL-JLJL7 |F-J   \n",
      "           ||L7F7L--JL-J|FJ|FJ|F----JIL----JL-7L--7|F7|L7L7F7ILJ|F-JL7L7II|L-7IIIL-JF--JLJF7|F---7FJL---J|F-7FJ|F7L-JL--7|||F-7F7F7F7L-JL--7  \n",
      "           LJ LJL-----7FJ|FJL7|L-------------7|F--JLJ|L7|FJ||F7ILJIIIL-JII|F-JF7IF7IL-----J||L-7FJ|F7F---JL7LJ |||F-7F--JLJLJ |||||||F7F---J  \n",
      "               F7F--7 LJFJL7 LJ F--7F7F7F----J|L----7L-J||FJ|||F7F7IIIIIIILJIFJL7|L--7F7IF7LJF-JL-J|||F----JF-7||||FJL-7F7F7F7LJLJ||LJ|L-7    \n",
      "          F7F7FJLJF7L---JF-JF---JF7LJ||LJF7IF7|F----JIF7LJL7LJLJLJ|IIIIIIIIIIL-7|L--7LJL-JL--JF7F-7|LJL-----JFJLJLJL7F-J|LJ|||F--7|L7 L-7L7   \n",
      "         FJLJ|L-7FJL-7F7FJF-JF---JL-7|L--JL-JLJL------JL7F7|F----7|IIIIIIIIIF--JL---JF7F7F7F7FJ|L7||F--------JF7F7 FJL--JF-J||L7FJL7L--7|FJ   \n",
      "         L--7|F7LJF7 LJLJ L--JF--7 FJL7F-7F7F7F---7F-7F7LJ||L---7LJIIIIIIIIIL--7F-7F7|||LJLJLJFJFJ|||F7F------JLJL7L-----JF7|L-JL-7|F--J||    \n",
      "         F--JLJ|F7||F-7 F7F7F-JF7L7L-7LJI||LJ|L--7LJFJ||F7LJF---JIIIIIIIIIIIIIFJ|ILJLJLJF-----JFJILJLJLJF--7F7F7F7L7 F----JLJF7F7FJLJ F7LJ    \n",
      "        FJF---7LJLJ|L7L-JLJ|L--JL7L--JF-7|L-7|F-7L-7L-J||L7FJIIIIIIIIIIIIIIIIIL-JF-----7|F--7F7|IF7F---7L-7LJLJLJL7L-JF---7F-J|||L----JL7     \n",
      "        L-J F7L7F-7L7L7F--7|F7 F7L--7I|FJ|F7|||FJF7L--7LJI|L-7IIIIIIIIIIIIIIIIF--JF-7F7LJL-7LJLJFJ|L--7|F7L----7F7L--7L-7FJL7 ||L7F-----J     \n",
      "          F-J| LJ L7| LJ FJLJ|FJL--7L7|L7LJLJLJL7|L--7L7F-JF-JIIIIIIIIIIIIIIIIL--7|ILJL----JF--7L7L---JLJL-----J|L--7|F7||F7L7LJ |L----7      \n",
      "         FJF-JF--7 ||F7F7L--7|L-7F7L-J|FJF7IF7IFJL--7L-J|F7L---7IIIIIIIIIIIIIIIIILJF7F-----7L7FJIL--------7F-7F-JF--JLJLJ|||FJF7 |F-7F-J      \n",
      "         L7L7 |F-JFJLJ|||F7FJL--J|L-7I|L-JL-JL7L--7FJIF7LJ|F---JIIIIIIIIIIIIIIIIIIFJLJF---7L-J|F7F7F------J|FJ|F-JF7F---7|||L7|L7|L7LJ        \n",
      "          L7|FJ|F7L-7FJ||||L7F7F-JF7L-JF7F----JF-7LJIFJL-7|L7F7IIIIIIIIIIIIIIIIIIIL---JIF7L7F7LJ|||L7F7F7F7|| ||F7|||F--JLJL7LJFJ|FJ          \n",
      "        F--JLJFJ|L--JL7|LJL-J|||F-J|F7FJ|L----7|FJF7FJF7FJL7LJ|IIIIIIIIIIIIIIIIIIIIF----JL-J|L-7LJ|FJ|||||LJL-JLJLJLJL-----7|F7| ||           \n",
      "        L--7F7L-JF-7F7LJF-7F7|LJL-7LJLJIL7F7F7LJ|FJ||FJLJF7L--JIIIIIIIIIIIIIIIIIIIFJF--7F---JF7L-7|L-JLJLJF---7F7F--7F7F7F-JLJLJFJ|           \n",
      "          FJ||F--JFJ||F7L7||||F---JF7F7F7LJLJL--J|FJ||IIFJL-7F7IF-7IIIIIIIIIIIIIIIL-JF7LJF7F7|L--JL7IF7IF7L--7|||L-7LJLJLJF7F--7L-J           \n",
      "          |FJ||F--JFJLJ|FJLJLJL----JLJ||L---7F7IFJ|FJL7FJF--J|L7|FJIIIIIIIIIIIIIIIIF7||F-J|||L--7F7L7|L-JL-7FJLJ|F-JF-----JLJF-J              \n",
      "       F7FJ|FJ||F--JF--J|F--------7F--J|F---J|L7|FJ|F-J|FJF7FJFJ||IIIIIIIIIIIIIIF--JLJLJF7LJL---J||FJL-7F-7LJF-7||F7L7F------JF7              \n",
      "       |LJFJ|FJLJ F7L7F-JL----7F-7|L---JL----JFJ|L7|L-7||FJ||FJFJL7IIIIIIIIIIIII|F---7F-J|F------J||F7ILJIL--JFJLJ|L-JL------7||F-7           \n",
      "       L-7L7LJ  F-JL-J|F----7 LJFJL--7F-------JFJFJ|F-J|||FJ|L-JF7|IIIF7IIIIIIII||IIILJIFJ|F------JLJ|F7F7F---JF--JF-7F7F----J|LJFJ           \n",
      "         L7| F7FJF7F--JL---7L7F7L---7LJF--7F7F7L7L-JL--JLJL-JF--JLJIII||IIIIIIIILJIIIF--JFJL-7F--7F-7LJLJ|L---7|F--J LJLJF7 F7|F7|            \n",
      "          LJFJLJFJ||F7 F7F-JFJ|L----JF-JF7LJLJL-JF-7F----7F-7|F---7III|L7IIIIIIIIIIIIL---JF-7LJF-J|IL---7L-7F7||L7F--7 F7|L-JLJ|LJ            \n",
      "           FJF-7|FJ||L7|LJF7L7L---7F7L7FJ|F-7F7F7|FJL7F-7|L7|LJF7FJIII|FJIIIIIIIIIF7F7F7F7|FJF-JF7|F----JF7LJ|LJFJ|F-JFJLJF-7F7|F7            \n",
      "           |FJ LJL7|L7LJF7|L7L----J|L-JL7||ILJLJ|||F-J|FJL-JL7FJLJF7IFJ|IIIIIIIIII|||||||LJ|FJF7||||F7F7FJL-7L--JFJL--JF7FJ LJLJ||            \n",
      "           LJF-7F7LJ |F7||L7L7F----JF7F-J|L----7|||L--JL---7FJL--7|L7L7|IIIIIIIIF7|LJLJ|L-7LJFJLJLJLJ||||F--JF--7|F---7|||F-----JL7           \n",
      "             L7||L---J||||FJ LJF----JLJF7L--7F7|||L7F-7F7F-JL--7FJL7|FJ|IIIIIIIFJ||F7F7|F7L--JF------J|LJL---JF-J|L--7LJLJ|F-7F-7FJ           \n",
      "            F7||L-----JLJLJ F-7L-------JL--7LJLJLJI|L7||LJIF7F7||F-JLJFJIF7IIF-JFJLJLJ|LJ|IF7IL--7F---JF7IF7F7|F-JF--JF7 FJL7|L7LJ            \n",
      "            ||||F7 F--7F7 F7L7L---------7F7|F7F7F-7|FJ|L7F7||||LJL---7L7FJL7IL-7|F7IF7|F7L-JL7F7ILJF-7FJL-JLJ|LJF7L---JL-JF7|L-J              \n",
      "            |LJLJL-JF7LJL7|L7L---------7|||LJLJLJFJ|L7L7LJ||||L7IF--7L7LJF-JF7I||||FJ|LJL7F7FJ|L-7IL7|L-----7L7FJL7F----7FJLJ F7              \n",
      "            L-7F7F--JL--7||FJF---------JLJL--7F--JIL-JFJF7LJLJFJFJF-JI|F-JF-J|FJ||||FJIF7LJ|L7|F7L--JL------J |L-7|L---7|L-7F-JL----7         \n",
      "            F-J||L7F----JLJL7L--7F----7F7IF-7|L------7L7||F7F-JI|FJIIFJL7I|F-JL7||||L7FJL7FJFJLJL----7F-7F---7L--JL----JL--J|F------J         \n",
      "            L-7|L-JL-------7| F7LJF---J||FJFJL7F----7L7LJ||||IF-J|F7FJF7L-JL7IFJLJ||FJL-7|L7L7F7F7F7ILJILJF--J F7F---7 F7 F-JL-7F--7          \n",
      "              LJF7F-------7||FJL7 L----JLJFJF-JL---7L-JF7LJLJFJF-J|||FJL7F-7L7L-7FJ||F7FJL-JFJ||||||F--7F-JF7F7|||F--JFJL-JF---J|F-J          \n",
      "             F7 ||L---7F-7LJLJF7L--7F7F---JIL-7F---JF7FJL7IF7L7|F7||LJF-J|IL-JF7||FJLJ|L-7F7L7||||||L-7|L-7|LJLJLJL---JF7F7L7F-7|L-7F--7      \n",
      "             |L-JL7F7 LJFJF-7FJL--7||LJF---7F7||F7F7||L-7L7|L-JSJ||L-7L-7|F7F-J|||L7F-JF7LJL7LJLJLJL7FJL--J|F-7F7F7F---JLJL-J|FJ|F-J|F-J      \n",
      "             L-7F7LJL--7|FJFJ|F7F7||L7FJF--J||LJ|LJ|||F7L7||F7F7FJL-7|IFJLJ|L-7||L7||IFJ|F7IL--7F--7LJF----JL7|||||L-----7F--J|FJL--JL7       \n",
      "               LJL----7LJL7L-J|||LJL-J|FJF--J|F-JF-J|LJL7|LJ|||LJF--JL7L-7FJIFJ|L7LJL7L7||L7F--JL7IL--JF7IF-7||||||F7F---JL7F-J|F-7F--J       \n",
      "                F7F7F7L---JF--JLJF----JL-JF--JL-7|F7L--7|L7FJLJF7L---7L7FJ|F7L7L7L7F7L7||L7|L-7F7L7IF--JL-J LJLJLJLJ|L-7F7FJL--JL7LJ F-7      \n",
      "               FJLJLJ|F-7F7L-----JF------7L7F7F7|LJL7IFJ|FJL7F7||F7F-JFJL7|||FJFJILJ|FJ|L7||F7||L-JFJF----7F------7FJF7LJLJF-7F-7L--7L7L7F7   \n",
      "               L---7FJL7||L-------JF----7L7LJLJ|L-7FJFJFJ|F-J|||LJ|L-7|F7|||||FJF7F7|L7|FJ|||||L7F-JFJF---JL7F----JL7|L7F7FJ |L7|F7FJFJFJ||   \n",
      "              F7F--J|F7||L---------JF7F7L7|F---JF7|L-JFJFJL--J||F7L7FJLJLJ||LJL-J||||FJ||FJ|||L-J|F-JI|F----JL-7 F7 LJ LJ|L-7|FJ|||L-JFJFJL7  \n",
      "             FJ|L--7|||||F--7 F-----J||L-JLJF-7I||L7F-JIL7F---JLJL7|L-7F7FJL-7F--J|||L7||L7||L7F-J|F-7LJF--7F7FJFJL-7F7F7L7FJ|L7||L7F7L-JF7L7 \n",
      "             L7|F--JLJLJ|L-7L7|F7F--7LJF7F7IL7L-JL-JL-7F7||IF-7IF7||F7LJ|L-7I|L7F7|LJFJ||FJ||FJL--JL7L--JF7LJ|L7|F-7||||| LJ L7||| |||F7FJL7| \n",
      "           F7 ||L------7|F7|FJLJ||F7L7FJLJL-7|F7F--7F7||||L7L7L7|LJLJ|F7L-7|FJFJ||L-7L7|||FJ|L-7F-7FJF---JL-7L7LJL7|LJLJL----7|||L7LJLJ|L7 LJ \n",
      "         F-JL-JL-------JLJLJL7F7LJ|L-JL7F---JLJ||F7LJLJ|||FJIL7|L--7FJ||F7||L7L-JL7IL7LJ|||FJF-J|FJL-JF-----J L---J|F--7F7F--J||L7|    L7|    \n",
      "         L-------7F----7F7F-7LJL-7L---7||IF-7IFJLJ|F7F7||||IF7||F7FJ|FJ||LJL-JF---JF7L-7||||FJIFJL7IF7L---7 F7F7F7 |L-7|||L--7|L7LJ    FJ|    \n",
      "           F-----J| F7 LJLJ L-7F-JF---J|L7L7L7L7F-J|||||||L-JLJ|||L7|L7|L--7F-JF7F7||IFJLJ|||F-JF-JFJ|F7F7L-JLJLJL7L--JLJL-7FJL-J      L-J    \n",
      "           |F----7|FJL---7F7F7||F7L-7F7|FJFJFJI||F7||||||L--7F-J|L7|L7||F-7|L-7|||||L7L7F-J||L-7|F7|FJ|||L--7F7F--J F7 F--7|L7 F--7           \n",
      "        F--J|F---J|L7F7F7LJLJLJLJL--J||||I|FJF7||||||||||F7I||F7L7||FJ|||FJL7FJ||||L7|I||F7||F7||||||I||L-7 LJ|L--7FJL-JF-JL-JFJF-J           \n",
      "        L---JL7F-7| LJLJL-7F-7F-7F7F7||||FJ|FJ||||||||||||L7||||FJ||L7||||F7|L7||||FJL7|||||||||LJ||L7||F7L--7|F-7LJF--7L-7F-7L7|F7           \n",
      "         F---7|| LJF7F----JL7||FJ|LJ||||LJFJL7||||||||LJLJFJ|||||FJ|FJ|LJLJ|L7||LJ|L-7||||||LJ|L7FJL7LJ|||F7FJ|L7|F7L-7|F-JL7|FJLJ|           \n",
      "         L--7|LJF--J|L---7F7|||L-J FJ||L-7|F-JLJ|||||L--7FJFJ|||||FJL7|F7F-JFJ|L7 |F-JLJLJ||F-JFJL7FJF7||LJ|L7|FJLJL--JLJF7FJLJF--J           \n",
      "         F--J|F7L--7|F---J|||LJ F7FJFJ|F-J|L7F--J||||F7FJL7|FJ||||| FJLJ|L-7| L-JFJL---7F-J|L-7L-7|L-J||L-7|FJ|L----7F-7 ||L7F-JF7            \n",
      "      F--JF-7LJL---JLJF7F7|||F--JLJFJ |L-7|FJ|F7FJ||||LJF7LJL7|LJ|L7|F7FJF-JL--7 |F-7F7|L-7L7FJF7|L7F7||F7|||FJF----JL7|FJL-JL--JL7           \n",
      "      L7F7| L-7F7F---7|LJLJ||L----7| FJF7||L7||||FJ||L-7|| F-J|F-JFJ||||FJF7F7FJFJL7||||F-JFJ|FJ|L7||||||LJ||L7L------JLJF-7F7F---J           \n",
      "       ||LJF--J|||F--J|F---J|F----JL7L7||||FJ||||L7||F7LJL7L--JL7FJ ||||L7|||LJ L7FJLJ||L--J || L7|||||LJF-JL7|F-7F7F---7L7LJ|L-7             \n",
      "       LJ  L--7|LJ|F-7||F7F7|L7F-7F7L7LJ||LJ ||LJ ||LJL7F7L7F---JL7FJ||| LJ||F7F7||F7FJ|F----JL-7LJLJ|L7FJF7FJ|L7|||L--7L7L-7|F7|             \n",
      "            F-JL7FJL7LJ|||||L7||FJ|L7L-7|L--7||F--JL-7 ||L7|L7F-7FJ|FJLJF--J||LJLJLJ||FJ|F7F-7F7L---7L7|L7|||FJFJ|||F7FJ L7FJ||LJ             \n",
      "          F-JF--JL7FJF-J||||FJ||L7|FJF-JL7F7|||L--7F7|FJ|FJ|FJ|FJL7|L-7FJF-7||F-7F7FJLJ ||LJFJ||F7F-JFJ|FJ|LJ|FJ LJ|||L-7 || ||               \n",
      "          |F7|F--7|L7L--J|||L7LJ LJL7L-7FJ|||LJF--J||||FJ|FJL7|L7FJ|F7||FJ ||||FJ||L-7F7|| FJFJLJ||F7L7||FJF-JL-7F-J||F7L7LJ |L7              \n",
      "          LJLJL-7LJFJF---J|L-JF-----JF-JL-J|L-7L7F7||||| ||F-J|FJL7||||LJF-J|LJL7|L7FJ||||FJFJ F-JLJL7LJLJ L7F7FJL-7|LJL7L7 FJFJ              \n",
      "         F-7F---JF7L7|F7F7L--7L-----7L----7|F7| ||LJ||LJFJ|L7FJL7FJLJ|L-7L-7L7F7|L7||FJLJ|L7|F-JF-7F7L-----7LJ|L--7|L--7L7L7|FJ               \n",
      "         L7LJF7F7||FJ|||||F--JF7F7F-JF--7FJLJLJFJL-7|L7 |FJFJL7FJL7 FJF7L7FJFJ|LJFJ||L--7L7LJ|F7|FJ|L-----7|F-JF7FJ|F7FJFJFJLJ                \n",
      "          L7FJ|||||| ||||||F7FJLJLJF7L7 LJF7F7 L7F7|L7L7|L7L7FJL-7L7|FJ|FJL7L7|F7L7||F--JFJ FJ|||L7L-----7|||F7||L7|||L7L7L-7F-7              \n",
      "           LJ LJ|||L7||LJLJ||L7F--7|L7L---JLJL-7|||L7|FJ|FJ LJF7FJFJ|| |L-7|FJ|||FJ||L7F7L-7|FJLJ L7F7F--JLJLJ|||FJLJ|FJFJF-J|FJ              \n",
      "             F--J||FJLJF---J| LJF7||FJF7F-7F7F7|LJ|FJLJFJL7F--JLJFJ |L7L-7||| ||||FJL7LJ|F-J|L--7F-J|LJ F---7FJ||L-7 LJ L7L--JL7              \n",
      "             L--7|||   L-7F7L7F7|LJ||FJ|L7||||||F7|L--7L7FJL7F7F7L7 L7L7FJ||L7||||L-7L7 |L-7|F7FJ|F7L7F7|F--JL7||F7L7F7  L-7F7FJ              \n",
      "               FJ|LJ     LJL7LJLJF7||L7L7|LJLJ|||LJF--JFJL-7||LJL7L7FJFJL7||FJLJ|L7 L7L7L7FJ|||| LJL7LJLJL---7LJ||L7LJ|  F-J|LJ               \n",
      "               L-J      F7  L-7F7|||L7|FJL--7 LJL-7L--7L---J||F--JFJ|FJF7||LJ F-JFJF7L7|FJL7||LJF7F-JF-7F----JF-J| L-7|  L-7|                 \n",
      "                       FJL7 F-J|LJ|L7LJL-7F7|F7F--JF-7L---7 LJL7F7L7LJFJLJL--7L-7L7|L-J||F7||| FJLJF-JFJL----7L-7L-7 ||    LJ                 \n",
      "                      FJF7L-JF7|F-JFJF---J|LJ||L--7L7|F-7FJ  F-J|L7L-7L7F7F-7|F-JFJL7F7||||||L7|F-7L-7|F7F7F7|  L7FJ LJ                       \n",
      "                      L-JL-7FJ|||F-JFJF7F7L--JL--7|FJ|L7||   |F7L7L7FJ LJ|L7LJL-7L7 LJ|||||||FJ|| L7FJLJ|||||L7 FJL7                          \n",
      "                    F------J|FJ||L-7|FJLJL7F--7F7||L7|FJLJ   LJL7L7|L7F--JFJ    L7|F--J|||LJ|| |L-7|L-7 LJ||L7L7L7FJ                          \n",
      "                    L-7F--7FJL7|L7FJLJF---J| FJ|LJ|FJLJ        FJFJ|FJ|F7FJ      LJL-7FJ||  ||FJF-J|F7L7  LJ L-J ||                           \n",
      "                      |L7FJ| FJ|FJL7F-JF7F7L7L7L-7LJ          FJFJ LJ ||LJ           LJ LJ  LJL7|  LJL7|         LJ                           \n",
      "                      L-JL7| L-JL7FJL7FJLJ|FJFJF7|            |FJ     ||                     F-JL7    ||                                      \n",
      "                          LJ  F7 |L-7||  FJL7L-JLJ            LJ      |L7                    L7F-J    |L7                                     \n",
      "                             FJL-JF-JLJ  |F7L7                        |FJ                     LJ      |FJ                                     \n",
      "                             |F7F7|      LJ|FJ                        LJ                              LJ                                      \n",
      "                             LJLJLJ        LJ                                                                                                 \n",
      "                                                                                                                                              \n",
      "                                                                                                                                              \n",
      "                                                                                                                                              \n",
      "                                                                                                                                              \n",
      "                                                                                                                                              \n",
      "483\n"
     ]
    }
   ],
   "source": [
    "def set_chr(maze: list[str], position: Position, chr: str):\n",
    "    row = maze[position.row]\n",
    "    new_row = row[:position.col] + chr + row[position.col + 1:]\n",
    "    maze[position.row] = new_row\n",
    "\n",
    "def print_debug(maze: list[str]):\n",
    "    for l in maze:\n",
    "        print(l)\n",
    "\n",
    "def get_loop_map(start: Tile, maze: list[str]) -> list[str]:\n",
    "    for connection_start in start.connections[::-1]:\n",
    "        res = [' ' * len(row) for row in maze]\n",
    "        set_chr(res, start.pos, \"S\")\n",
    "\n",
    "        prev_pos = start.pos\n",
    "        current_pos = connection_start\n",
    "        while current_pos:\n",
    "            current = get_tile(maze, current_pos)\n",
    "            if current.chr == start.chr:\n",
    "                start_delta_col = connection_start.col - start.pos.col  \n",
    "                start_delta_row = connection_start.row - start.pos.row\n",
    "                end_delta_col = prev_pos.col - start.pos.col\n",
    "                end_delta_row = prev_pos.row - start.pos.row\n",
    "\n",
    "                if start_delta_col == 1 and end_delta_row == 1:\n",
    "                    set_chr(res, current.pos, \"F\")\n",
    "                elif start_delta_col == -1 and end_delta_row == 1:\n",
    "                    set_chr(res, current.pos, \"7\")\n",
    "                elif abs(start_delta_row) and abs(end_delta_row):\n",
    "                    set_chr(res, current.pos, \"|\")\n",
    "                else:\n",
    "                    # We dont need to count these edges in fill function\n",
    "                    set_chr(res, current.pos, \"S\")\n",
    "                return res\n",
    "\n",
    "            set_chr(res, current.pos, current.chr)\n",
    "            temp = next(current, prev_pos)\n",
    "            prev_pos = current_pos\n",
    "            current_pos = temp\n",
    "    \n",
    "        return res\n",
    "\n",
    "def fill_polygon(maze: list[str]):\n",
    "    row_end = len(maze) - 1 # padded\n",
    "    col_end = len(maze[0]) -1 # padded\n",
    "\n",
    "    for row in range(1, row_end):\n",
    "        for col in range(1, col_end):\n",
    "            if get_chr(maze, Position(row, col)) == \" \":\n",
    "                right_of = maze[row][col+1:col_end]\n",
    "                intersections = right_of.count(\"|\") + right_of.count(\"7\") + right_of.count(\"F\") # Count number of times we cross the polygon\n",
    "\n",
    "                # if odd number of intersections, we are inside the polygon\n",
    "                # https://www.geeksforgeeks.org/how-to-check-if-a-given-point-lies-inside-a-polygon/\n",
    "                if intersections % 2 == 1:\n",
    "                    set_chr(maze, Position(row,col), \"I\")\n",
    "\n",
    "def count_i(maze: list[str]) -> int:\n",
    "    return sum([row.count('I') for row in maze])\n",
    "\n",
    "data = read_file(\"day10/example3.txt\")\n",
    "padded = pad(data)\n",
    "\n",
    "start = find_start(padded)\n",
    "loop_map = get_loop_map(start, padded)\n",
    "fill_polygon(loop_map)\n",
    "print_debug(loop_map)\n",
    "res = count_i(loop_map)\n",
    "print(res)\n"
   ]
  }
 ],
 "metadata": {
  "kernelspec": {
   "display_name": "Python 3 (ipykernel)",
   "language": "python",
   "name": "python3"
  },
  "language_info": {
   "codemirror_mode": {
    "name": "ipython",
    "version": 3
   },
   "file_extension": ".py",
   "mimetype": "text/x-python",
   "name": "python",
   "nbconvert_exporter": "python",
   "pygments_lexer": "ipython3",
   "version": "3.10.6"
  }
 },
 "nbformat": 4,
 "nbformat_minor": 5
}
