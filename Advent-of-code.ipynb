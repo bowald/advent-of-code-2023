{
 "cells": [
  {
   "cell_type": "markdown",
   "metadata": {},
   "source": [
    "### IO and utilities"
   ]
  },
  {
   "cell_type": "code",
   "execution_count": 74,
   "metadata": {},
   "outputs": [],
   "source": [
    "import os\n",
    "from dataclasses import dataclass, fields\n",
    "import re\n",
    "\n",
    "def read_file(path: str) -> list[str]:\n",
    "    with open(os.path.join(os.getcwd(), path), \"r\") as f:\n",
    "        return [line.strip() for line in f.readlines()]\n",
    "    \n",
    "StringMatrix = list[str]\n",
    "\n",
    "def read_file_as_matrix(path: str) -> StringMatrix:\n",
    "    with open(os.path.join(os.getcwd(), path), \"r\") as f:\n",
    "        return [line.strip() for line in f.readlines()]\n"
   ]
  },
  {
   "cell_type": "markdown",
   "metadata": {},
   "source": [
    "# Day 1: Trebuchet?!\n"
   ]
  },
  {
   "cell_type": "code",
   "execution_count": 75,
   "id": "69fa2805-4fee-43d7-bb6f-ecdf27892dd8",
   "metadata": {},
   "outputs": [
    {
     "name": "stdout",
     "output_type": "stream",
     "text": [
      "142\n"
     ]
    }
   ],
   "source": [
    "def getnumber(line: str) -> int:\n",
    "    numbers = [c for c in line if c.isdigit()]\n",
    "    return int(numbers[0] + numbers[-1])\n",
    "\n",
    "day1_1 = read_file(\"day1/example.txt\")\n",
    "print(sum([getnumber(l) for l in day1_1]))\n"
   ]
  },
  {
   "cell_type": "markdown",
   "metadata": {},
   "source": [
    "Part 2, search each line for the first digit or word, the search from back after first digit or word."
   ]
  },
  {
   "cell_type": "code",
   "execution_count": 76,
   "metadata": {},
   "outputs": [
    {
     "name": "stdout",
     "output_type": "stream",
     "text": [
      "142\n"
     ]
    }
   ],
   "source": [
    "def test(substr: str) -> str:\n",
    "    numbers = {\n",
    "        'one': '1',\n",
    "        'two': '2',\n",
    "        'three': '3',\n",
    "        'four': '4',\n",
    "        'five': '5',\n",
    "        'six': '6',\n",
    "        'seven': '7',\n",
    "        'eight': '8',\n",
    "        'nine': '9'\n",
    "    }\n",
    "\n",
    "    for word, digit in numbers.items():\n",
    "        if word in substr:\n",
    "            return digit\n",
    "\n",
    "    return ''\n",
    "\n",
    "def find_first_digit(inline: str, reverse = False) -> str:\n",
    "    buffer = ''\n",
    "    line = inline[::-1] if reverse else inline\n",
    "\n",
    "    for c in line:\n",
    "        if c.isdigit():\n",
    "            return c\n",
    "\n",
    "        if reverse:\n",
    "            buffer = c + buffer\n",
    "        else:\n",
    "            buffer = buffer + c\n",
    "\n",
    "        candidate = test(buffer)\n",
    "        if candidate:\n",
    "            return candidate\n",
    "\n",
    "def replace_text(line: str) -> str:\n",
    "    return find_first_digit(line) + find_first_digit(line, True)\n",
    "   \n",
    "day1_2 = read_file(\"day1/example.txt\")\n",
    "parsed = [int(replace_text(l)) for l in day1_2]\n",
    "print(sum(parsed))"
   ]
  },
  {
   "cell_type": "markdown",
   "metadata": {},
   "source": [
    "# Day 2: Cube Conundrum"
   ]
  },
  {
   "cell_type": "markdown",
   "metadata": {},
   "source": [
    "### Data representation and parsing"
   ]
  },
  {
   "cell_type": "code",
   "execution_count": 77,
   "metadata": {},
   "outputs": [],
   "source": [
    "@dataclass\n",
    "class GameSet():\n",
    "    red: int\n",
    "    green: int\n",
    "    blue: int\n",
    "\n",
    "@dataclass\n",
    "class Game():\n",
    "    id: int\n",
    "    sets: list[GameSet]\n",
    "\n",
    "def parse_set(s: str) -> GameSet:\n",
    "    gameset = GameSet(0,0,0)\n",
    "    cubesstr = s.split(',')\n",
    "\n",
    "    for cube in cubesstr:\n",
    "        n = int(re.search('\\d+', cube).group())\n",
    "        if 'red' in cube:\n",
    "            gameset.red = n\n",
    "        elif 'green' in cube:\n",
    "            gameset.green = n\n",
    "        else:\n",
    "            gameset.blue = n\n",
    "    \n",
    "    return gameset\n",
    "\n",
    "\n",
    "def parse(line: str) -> Game:\n",
    "    g = Game(-1, [])\n",
    "    \n",
    "    gamesrt, setsstr = line.split(':')\n",
    "    g.id = int(gamesrt[4:])\n",
    "    g.sets = [parse_set(s) for s in setsstr.split(';')]\n",
    "    return g\n",
    "\n",
    "day2_1 = read_file('day2/example.txt')\n",
    "games = [parse(l) for l in day2_1]"
   ]
  },
  {
   "cell_type": "markdown",
   "metadata": {},
   "source": [
    "### Part 1: Finding possible games"
   ]
  },
  {
   "cell_type": "code",
   "execution_count": 78,
   "metadata": {},
   "outputs": [
    {
     "name": "stdout",
     "output_type": "stream",
     "text": [
      "8\n"
     ]
    }
   ],
   "source": [
    "\n",
    "def max_set(a: GameSet, b: GameSet) -> GameSet:\n",
    "    return GameSet(max(a.red, b.red), max(a.green, b.green), max(a.blue, b.blue))\n",
    "\n",
    "def possible(game: Game, max_allowed: GameSet) -> bool:\n",
    "    game_max = GameSet(0,0,0)\n",
    "\n",
    "    for gameset in game.sets:\n",
    "        game_max = max_set(game_max, gameset)\n",
    "\n",
    "    return game_max.red <= max_allowed.red and game_max.green <= max_allowed.green and game_max.blue <= max_allowed.blue\n",
    "\n",
    "valid_game_ids = [g.id for g in games if possible(g, GameSet(12, 13, 14))]\n",
    "print(sum(valid_game_ids))\n"
   ]
  },
  {
   "cell_type": "markdown",
   "metadata": {},
   "source": [
    "### Part 2: Finding mimimum possible cubes and summing power of these sets"
   ]
  },
  {
   "cell_type": "code",
   "execution_count": 79,
   "metadata": {},
   "outputs": [
    {
     "name": "stdout",
     "output_type": "stream",
     "text": [
      "2286\n"
     ]
    }
   ],
   "source": [
    "def minimum_possible_cubes(game: Game) -> GameSet:\n",
    "    game_min = GameSet(0,0,0)\n",
    "\n",
    "    for gameset in game.sets:\n",
    "        game_min = max_set(game_min, gameset)\n",
    "\n",
    "    return game_min\n",
    "\n",
    "def game_power(game: Game) -> int:\n",
    "    s = minimum_possible_cubes(game)\n",
    "    return s.red * s.green * s.blue\n",
    "\n",
    "print(sum([game_power(g) for g in games]))"
   ]
  },
  {
   "cell_type": "markdown",
   "metadata": {},
   "source": [
    "# Day 3: Gear Ratios"
   ]
  },
  {
   "cell_type": "markdown",
   "metadata": {},
   "source": [
    "### Utils"
   ]
  },
  {
   "cell_type": "code",
   "execution_count": 80,
   "metadata": {},
   "outputs": [],
   "source": [
    "\n",
    "@dataclass\n",
    "class Coord():\n",
    "    row: int\n",
    "    col: int\n",
    "\n",
    "def getAdjecent(coord: Coord, total_rows: int, total_cols: int) -> list[Coord] :\n",
    "    result = []\n",
    "    \n",
    "    neighbouring_left = coord.col > 0\n",
    "    neighbouring_right = coord.col < total_cols\n",
    "    neighbouring_up = coord.row > 0\n",
    "    neighbouring_down = coord.row < total_rows\n",
    "\n",
    "    if neighbouring_up:\n",
    "        if neighbouring_left:\n",
    "            result.append(Coord(coord.row - 1, coord.col - 1))\n",
    "        \n",
    "        result.append(Coord(coord.row - 1, coord.col))\n",
    "\n",
    "        if neighbouring_right:\n",
    "            result.append(Coord(coord.row - 1, coord.col + 1))\n",
    "    \n",
    "    if neighbouring_left:\n",
    "        result.append(Coord(coord.row, coord.col - 1))\n",
    "\n",
    "    if neighbouring_right:\n",
    "        result.append(Coord(coord.row, coord.col + 1))\n",
    "\n",
    "    if neighbouring_down:\n",
    "        if neighbouring_left:\n",
    "            result.append(Coord(coord.row + 1, coord.col - 1))\n",
    "        \n",
    "        result.append(Coord(coord.row + 1, coord.col))\n",
    "\n",
    "        if neighbouring_right:\n",
    "            result.append(Coord(coord.row + 1, coord.col + 1))\n",
    "\n",
    "    return result\n",
    "\n",
    "def get_char(data: StringMatrix, coord: Coord) -> str:\n",
    "    return data[coord.row][coord.col]\n",
    "\n",
    "def is_digit(data: StringMatrix, coord: Coord) -> bool:\n",
    "    return get_char(data, coord).isdigit()\n",
    "\n",
    "def getIntIndex(data: StringMatrix, coord: Coord) -> (int,int):\n",
    "    found_first = False\n",
    "    found_last = False \n",
    "\n",
    "    f_index = coord.col\n",
    "    l_index = coord.col\n",
    "\n",
    "    while not found_first:\n",
    "        candidate = f_index - 1\n",
    "        if candidate >= 0 and data[coord.row][candidate].isdigit():\n",
    "            f_index = candidate\n",
    "        else:\n",
    "            found_first = True\n",
    "\n",
    "    while not found_last:\n",
    "        candidate = l_index + 1\n",
    "        if candidate < len(data[coord.row]) and data[coord.row][candidate].isdigit():\n",
    "            l_index = candidate\n",
    "        else:\n",
    "            found_last = True\n",
    "\n",
    "    return f_index, l_index\n",
    "\n",
    "def remove_data(data: StringMatrix, row, begin, end):\n",
    "    current = data[row]\n",
    "    data[row] = current[:begin] + 'x' * (end + 1 - begin) + current[end+1:]\n",
    "\n"
   ]
  },
  {
   "cell_type": "markdown",
   "metadata": {},
   "source": [
    "### Part 1"
   ]
  },
  {
   "cell_type": "code",
   "execution_count": 81,
   "metadata": {},
   "outputs": [
    {
     "name": "stdout",
     "output_type": "stream",
     "text": [
      "4361\n"
     ]
    }
   ],
   "source": [
    "def is_symbol(data: StringMatrix, coord: Coord) -> bool:\n",
    "    symbols = [\"+\",\"*\",\"#\",\"$\",\"%\",\"@\",\"#\",\"&\",\"=\",\"-\",'/']\n",
    "    return get_char(data, coord) in symbols\n",
    "\n",
    "result = 0\n",
    "data = read_file_as_matrix(\"day3/example.txt\")\n",
    "for row in range(len(data)):\n",
    "    for col in range(len(data[row])):\n",
    "        c = Coord(row, col)\n",
    "        if is_symbol(data, c):\n",
    "            adjecents = getAdjecent(c, len(data), len(data[row]))\n",
    "\n",
    "            for a in adjecents:\n",
    "                if is_digit(data, a):\n",
    "                    first, last = getIntIndex(data, a)\n",
    "                    number = int(data[a.row][first:last+1])\n",
    "                    result += number\n",
    "                    remove_data(data, a.row, first, last)\n",
    "\n",
    "print(result)"
   ]
  },
  {
   "cell_type": "markdown",
   "metadata": {},
   "source": [
    "### Part 2 - find gears"
   ]
  },
  {
   "cell_type": "code",
   "execution_count": 82,
   "metadata": {},
   "outputs": [
    {
     "name": "stdout",
     "output_type": "stream",
     "text": [
      "467835\n"
     ]
    }
   ],
   "source": [
    "def is_gear(data: StringMatrix, coord: Coord) -> bool:\n",
    "    return get_char(data, coord) == '*'\n",
    "\n",
    "result = 0\n",
    "data = read_file_as_matrix(\"day3/example.txt\")\n",
    "for row in range(len(data)):\n",
    "    for col in range(len(data[row])):\n",
    "        c = Coord(row, col)\n",
    "        if is_gear(data, c):\n",
    "            adjecents = getAdjecent(c, len(data), len(data[row]))\n",
    "            \n",
    "            numbers = []\n",
    "\n",
    "            data_before = data\n",
    "\n",
    "            for a in adjecents:\n",
    "                if is_digit(data, a):\n",
    "                    first, last = getIntIndex(data, a)\n",
    "                    number = int(data[a.row][first:last+1])\n",
    "                    numbers.append(number)\n",
    "                    remove_data(data, a.row, first, last)\n",
    "\n",
    "            if len(numbers) == 2:\n",
    "                result += numbers[0] * numbers[1]\n",
    "            else: \n",
    "                # No gear! Restore data\n",
    "                data = data_before\n",
    "print(result)"
   ]
  },
  {
   "cell_type": "markdown",
   "metadata": {},
   "source": [
    "# Day 4: Scratchcards"
   ]
  },
  {
   "cell_type": "markdown",
   "metadata": {},
   "source": [
    "### Part 1"
   ]
  },
  {
   "cell_type": "code",
   "execution_count": 83,
   "metadata": {},
   "outputs": [
    {
     "name": "stdout",
     "output_type": "stream",
     "text": [
      "13\n"
     ]
    }
   ],
   "source": [
    "@dataclass\n",
    "class Card():\n",
    "    id: int\n",
    "    winning_numbers: set[int]\n",
    "    numbers: set[int]\n",
    "    \n",
    "def parse_card(line: str) -> Card:\n",
    "    card_nr_str, rest = line.split(\":\")\n",
    "    c = Card(int(card_nr_str[5:].strip()), [], [])\n",
    "\n",
    "    winning_str, numbers_str = rest.split(\"|\")\n",
    "    c.winning_numbers = {int(n.strip()) for n in winning_str.split()}\n",
    "    c.numbers = {int(n.strip()) for n in numbers_str.split()}\n",
    "\n",
    "    return c\n",
    "\n",
    "def worth(c: Card) -> int:\n",
    "    wins = c.numbers.intersection(c.winning_numbers)\n",
    "    return 0 if len(wins) == 0 else pow(2, len(wins) - 1)\n",
    "\n",
    "data = read_file(\"day4/example.txt\")\n",
    "cards = [parse_card(l) for l in data]\n",
    "winnings = [worth(c) for c in cards]\n",
    "print(sum(winnings))\n"
   ]
  },
  {
   "cell_type": "markdown",
   "metadata": {},
   "source": [
    "### Part 2"
   ]
  },
  {
   "cell_type": "code",
   "execution_count": 84,
   "metadata": {},
   "outputs": [
    {
     "name": "stdout",
     "output_type": "stream",
     "text": [
      "30\n"
     ]
    }
   ],
   "source": [
    "@dataclass\n",
    "class Card():\n",
    "    id: int\n",
    "    winning_numbers: set[int]\n",
    "    numbers: set[int]\n",
    "    copies: int\n",
    "    \n",
    "def parse_card(line: str) -> Card:\n",
    "    card_nr_str, rest = line.split(\":\")\n",
    "    c = Card(int(card_nr_str[5:].strip()), [], [], 1)\n",
    "\n",
    "    winning_str, numbers_str = rest.split(\"|\")\n",
    "    c.winning_numbers = {int(n.strip()) for n in winning_str.split()}\n",
    "    c.numbers = {int(n.strip()) for n in numbers_str.split()}\n",
    "\n",
    "    return c\n",
    "\n",
    "def wins(c: Card) -> int:\n",
    "    wins = len(c.numbers.intersection(c.winning_numbers))\n",
    "    return range(c.id, c.id+wins)\n",
    "      \n",
    "\n",
    "data = read_file(\"day4/example.txt\")\n",
    "cards = [parse_card(l) for l in data]\n",
    "for card in cards:\n",
    "    new_copies = wins(card)\n",
    "    for id in new_copies:\n",
    "        if id < len(cards):\n",
    "            cards[id].copies += card.copies\n",
    "\n",
    "total = sum([c.copies for c in cards])\n",
    "print(total)"
   ]
  },
  {
   "cell_type": "markdown",
   "metadata": {},
   "source": [
    "# Day 5: If You Give A Seed A Fertilizer"
   ]
  },
  {
   "cell_type": "markdown",
   "metadata": {},
   "source": [
    "### Utils - shared code between Part 1 and Part 2"
   ]
  },
  {
   "cell_type": "code",
   "execution_count": 85,
   "metadata": {},
   "outputs": [],
   "source": [
    "import sys\n",
    "import operator\n",
    "\n",
    "@dataclass\n",
    "class Table_item():\n",
    "    destination_range_start: int\n",
    "    source_range_start: int\n",
    "    range_length: int\n",
    "\n",
    "def within (src: int, entry: Table_item) -> int:\n",
    "    src_delta = src - entry.source_range_start\n",
    "    if src_delta >= 0 and src_delta < entry.range_length:\n",
    "        return entry.destination_range_start + src_delta\n",
    "    return -1\n",
    "\n",
    "def parse_tables(lines: list[str]) -> dict[str, list[Table_item]]:\n",
    "    tables = {}\n",
    "\n",
    "    parsing_map = False    \n",
    "    current_map = ''\n",
    "\n",
    "    for line in lines:\n",
    "        if len(line) == 0:\n",
    "            parsing_map = False\n",
    "            if current_map:\n",
    "                current_map = ''\n",
    "            continue\n",
    "        if not parsing_map and ' map:' in line:\n",
    "            current_map = line.split(\" map:\")[0]\n",
    "            parsing_map = True\n",
    "            continue\n",
    "\n",
    "        if parsing_map:\n",
    "            d, s, r = [int(x) for x in line.split()]\n",
    "            \n",
    "            if not current_map in tables:\n",
    "                tables[current_map] = []\n",
    "            \n",
    "            tables[current_map].append(Table_item(d, s, r))\n",
    "    \n",
    "    for table in tables.values():\n",
    "        table.sort(key=operator.attrgetter('source_range_start'))\n",
    "\n",
    "    return tables\n",
    "\n",
    "def populate_seeds(seed_ids: list[int], tables: dict[str, list[Table_item]]) -> list[list[int]]:\n",
    "    seeds = [[id] + [-1] * 7 for id in seed_ids]\n",
    "    keys = ['seed-to-soil', 'soil-to-fertilizer', 'fertilizer-to-water', 'water-to-light', 'light-to-temperature', 'temperature-to-humidity', 'humidity-to-location']\n",
    "    \n",
    "    for seed in seeds:\n",
    "        for i, key in enumerate(keys, 1):\n",
    "            src = i-1\n",
    "            dst = i\n",
    "            \n",
    "            seed[dst] = seed[src] # Default to prev value\n",
    "\n",
    "            for entry in tables[key]:\n",
    "                v = within(seed[src], entry)\n",
    "                if v > -1:\n",
    "                    seed[dst] = v\n",
    "                    break\n",
    "    \n",
    "    return seeds\n",
    "\n",
    "def find_lowest_location(seeds: list[list[int]]) -> int:\n",
    "    lowest_location = sys.maxsize\n",
    "\n",
    "    for seed in seeds:\n",
    "        lowest_location = min(lowest_location, seed[7]) # Location at index 7\n",
    "\n",
    "    return lowest_location\n"
   ]
  },
  {
   "cell_type": "markdown",
   "metadata": {},
   "source": [
    "### Part 1"
   ]
  },
  {
   "cell_type": "code",
   "execution_count": 86,
   "metadata": {},
   "outputs": [
    {
     "name": "stdout",
     "output_type": "stream",
     "text": [
      "35\n"
     ]
    }
   ],
   "source": [
    "def parse_seeds(line: str) -> list[int]:\n",
    "    return [int(x) for x in line[7:].split()]\n",
    "\n",
    "data = read_file(\"day5/example.txt\")\n",
    "seed_ids = parse_seeds(data[0])\n",
    "tables = parse_tables(data[1:])\n",
    "seeds = populate_seeds(seed_ids, tables)\n",
    "print(find_lowest_location(seeds))"
   ]
  },
  {
   "cell_type": "markdown",
   "metadata": {},
   "source": [
    "### Part 2\n",
    "Needed to solve it based on seed ranges instead of simulating every seed. The solution from part 1 when applied to part 2 was too slow"
   ]
  },
  {
   "cell_type": "code",
   "execution_count": 87,
   "metadata": {},
   "outputs": [
    {
     "name": "stdout",
     "output_type": "stream",
     "text": [
      "46\n"
     ]
    }
   ],
   "source": [
    "@dataclass\n",
    "class Number_Range():\n",
    "    start: int\n",
    "    length: int\n",
    "\n",
    "def parse_seeds(line: str) -> list[Number_Range]:\n",
    "    seed_numbers = [int(x) for x in line[7:].split()]\n",
    "    \n",
    "    seeds = []\n",
    "    for i in range(0, len(seed_numbers), 2):\n",
    "        seeds.append(Number_Range(seed_numbers[i], seed_numbers[i+1]))\n",
    "\n",
    "    seeds.sort(key=operator.attrgetter('start'))\n",
    "    return seeds\n",
    "\n",
    "def convert_range(range: Number_Range, entry: Table_item) -> (Number_Range | None, Number_Range | None, Number_Range | None):\n",
    "    range_end = range.start + range.length\n",
    "    entry_end = entry.source_range_start + entry.range_length\n",
    "\n",
    "    if range_end < entry.source_range_start:\n",
    "        below = range\n",
    "        return below, None, None\n",
    "    \n",
    "    if entry_end <= range.start:\n",
    "        above = range\n",
    "        return None, None, above\n",
    "\n",
    "    # all within\n",
    "    if range.start >= entry.source_range_start and range_end <= entry_end:\n",
    "        start_delta = range.start - entry.source_range_start\n",
    "        converted = Number_Range(entry.destination_range_start + start_delta, range.length)\n",
    "        return None, converted, None\n",
    "    \n",
    "    if range.start < entry.source_range_start and range_end <= entry_end:\n",
    "        delta = entry.source_range_start - range.start\n",
    "        below = Number_Range(range.start, delta)\n",
    "        converted = Number_Range(entry.destination_range_start, range.length - delta)\n",
    "        return below, converted, None\n",
    "\n",
    "    if range.start >= entry.source_range_start and range_end > entry_end:\n",
    "        delta = range_end - entry_end\n",
    "        above = Number_Range(entry_end, delta)\n",
    "        delta_start = range.start - entry.source_range_start\n",
    "        converted = Number_Range(entry.destination_range_start + delta_start, range.length - delta)\n",
    "        return None, converted, above\n",
    "\n",
    "    if range.start < entry.source_range_start and range_end > entry_end:\n",
    "        delta_b = entry.source_range_start - range.start\n",
    "        below = Number_Range(range.start, delta_b)\n",
    "\n",
    "        delta_a = range_end - entry_end\n",
    "        above = Number_Range(entry_end, delta_a)\n",
    "        \n",
    "        converted = Number_Range(entry.destination_range_start, entry.range_length)\n",
    "        return below, converted, above\n",
    "    \n",
    "def lookup(range: Number_Range, table: list[Table_item]) -> list[Number_Range]:\n",
    "    # We assume that table is sorted based on source start\n",
    "\n",
    "    remaining = range\n",
    "    processed = []\n",
    "    for entry in table:\n",
    "        below, converted, above = convert_range(remaining, entry)\n",
    "\n",
    "        if below:\n",
    "            processed.append(below)\n",
    "\n",
    "        if converted:\n",
    "            processed.append(converted)\n",
    "        \n",
    "        remaining = above\n",
    "\n",
    "        if not remaining:\n",
    "            break\n",
    "\n",
    "    if remaining:\n",
    "        processed.append(remaining)\n",
    "    \n",
    "    return processed\n",
    "\n",
    "def solve(seeds: list[Number_Range], tables: dict[str, list[Table_item]]) -> int:\n",
    "    table_names = ['seed-to-soil', 'soil-to-fertilizer', 'fertilizer-to-water', 'water-to-light', 'light-to-temperature', 'temperature-to-humidity', 'humidity-to-location']\n",
    "    \n",
    "    unprocessed_range = seeds\n",
    "    proccessed = []\n",
    "\n",
    "    for name in table_names:\n",
    "        proccessed = []\n",
    "        for nr in unprocessed_range:\n",
    "            proccessed.extend(lookup(nr, tables[name]))\n",
    "\n",
    "        unprocessed_range = proccessed\n",
    "    \n",
    "    min_location = sys.maxsize\n",
    "    for x in proccessed:\n",
    "        min_location = min(min_location, x.start)\n",
    "\n",
    "    return min_location\n",
    "\n",
    "data = read_file(\"day5/example.txt\")\n",
    "seed_ranges = parse_seeds(data[0])\n",
    "tables = parse_tables(data[1:])\n",
    "\n",
    "lowest_location = solve(seed_ranges, tables)\n",
    "print(lowest_location)"
   ]
  },
  {
   "cell_type": "markdown",
   "metadata": {},
   "source": [
    "# Day 6: Wait For It"
   ]
  },
  {
   "cell_type": "markdown",
   "metadata": {},
   "source": [
    "### Shared code"
   ]
  },
  {
   "cell_type": "code",
   "execution_count": 88,
   "metadata": {},
   "outputs": [],
   "source": [
    "import re\n",
    "import math\n",
    "\n",
    "@dataclass\n",
    "class Record():\n",
    "    time: int\n",
    "    distance: int\n",
    "\n",
    "def distance(holdtime: int, total: int) -> int:\n",
    "    return holdtime * (total-holdtime)\n",
    "\n",
    "def ways_to_beat(race: Record) -> int:\n",
    "    wins = 0\n",
    "    half = int((race.time + 1) * 0.5)\n",
    "    first_beat = math.ceil(race.distance/race.time)\n",
    "    for i in range(first_beat,half):\n",
    "        if distance(i, race.time) > race.distance:\n",
    "            wins += 2\n",
    "    \n",
    "    return wins + (race.time + 1) % 2\n"
   ]
  },
  {
   "cell_type": "markdown",
   "metadata": {},
   "source": [
    "### Part 1"
   ]
  },
  {
   "cell_type": "code",
   "execution_count": 89,
   "metadata": {},
   "outputs": [
    {
     "data": {
      "text/plain": [
       "288"
      ]
     },
     "execution_count": 89,
     "metadata": {},
     "output_type": "execute_result"
    }
   ],
   "source": [
    "def line_to_numbers(line: str) -> list[int]:\n",
    "    return [int(s) for s in re.findall(\"\\D*(\\d+)\", line)]\n",
    "\n",
    "\n",
    "def parse_races(lines: list[str]) -> list[Record]:\n",
    "    times = line_to_numbers(lines[0])\n",
    "    distances = line_to_numbers(lines[1])\n",
    "    return [Record(time, distance) for time, distance in zip(times, distances)]\n",
    "\n",
    "data = read_file(\"day6/example.txt\")\n",
    "races = parse_races(data)\n",
    "\n",
    "math.prod([ways_to_beat(race) for race in races]) "
   ]
  },
  {
   "cell_type": "markdown",
   "metadata": {},
   "source": [
    "### Part 2"
   ]
  },
  {
   "cell_type": "code",
   "execution_count": 90,
   "metadata": {},
   "outputs": [
    {
     "name": "stdout",
     "output_type": "stream",
     "text": [
      "71503\n"
     ]
    }
   ],
   "source": [
    "def line_to_number(line: str) -> int:\n",
    "    return int(\"\".join([s for s in re.findall(\"\\D*(\\d+)\", line)]))\n",
    "\n",
    "\n",
    "def parse_race(lines: list[str]) -> Record:\n",
    "    time = line_to_number(lines[0])\n",
    "    distance = line_to_number(lines[1])\n",
    "    return Record(time, distance)\n",
    "\n",
    "data = read_file(\"day6/example.txt\")\n",
    "race = parse_race(data)\n",
    "wins = ways_to_beat(race)\n",
    "print(wins)"
   ]
  },
  {
   "cell_type": "markdown",
   "metadata": {},
   "source": [
    "# Day 7: Camel Cards "
   ]
  },
  {
   "cell_type": "markdown",
   "metadata": {},
   "source": [
    "### Part 1"
   ]
  },
  {
   "cell_type": "code",
   "execution_count": 91,
   "metadata": {},
   "outputs": [
    {
     "name": "stdout",
     "output_type": "stream",
     "text": [
      "6440\n"
     ]
    }
   ],
   "source": [
    "from enum import IntEnum\n",
    "from functools import cmp_to_key\n",
    "\n",
    "@dataclass\n",
    "class Player():\n",
    "    hand: str\n",
    "    bid: int\n",
    "\n",
    "\n",
    "class Card_type(IntEnum):\n",
    "    HIGH_CARD = 1\n",
    "    PAIR = 2\n",
    "    TWO_PAIR = 3\n",
    "    THREE_OF_A_KIND = 4\n",
    "    FULL_HOUSE = 5\n",
    "    FOUR_OF_A_KIND = 6\n",
    "    FIVE_OF_A_KIND = 7\n",
    "\n",
    "def parse_players(lines: list[str]) -> list[Player]:\n",
    "    pattern = re.compile(r'(.{5})\\s+(\\d*)')\n",
    "    players = []\n",
    "    for line in lines:\n",
    "        hand, bid = pattern.search(line).groups()\n",
    "        players.append(Player(hand, int(bid)))\n",
    "\n",
    "    return players\n",
    "\n",
    "def get_type(cards: str) -> Card_type:\n",
    "    unique_labels = set(cards)\n",
    "    \n",
    "    match len(unique_labels):\n",
    "        case 1:\n",
    "            return Card_type.FIVE_OF_A_KIND\n",
    "        case 2:\n",
    "            # Full house or Four of a kind\n",
    "            occurence = cards.count(unique_labels.pop())\n",
    "            if  occurence == 4 or occurence == 1:\n",
    "                return Card_type.FOUR_OF_A_KIND\n",
    "            return Card_type.FULL_HOUSE\n",
    "        case 3:\n",
    "            # Three of a kind or Two pair\n",
    "            occurence = cards.count(unique_labels.pop())\n",
    "\n",
    "            if occurence == 3:\n",
    "                return Card_type.THREE_OF_A_KIND\n",
    "            elif occurence == 2:\n",
    "                return Card_type.TWO_PAIR\n",
    "            else:\n",
    "                occurence = cards.count(unique_labels.pop())\n",
    "                if occurence == 2:\n",
    "                    return Card_type.TWO_PAIR\n",
    "                return Card_type.THREE_OF_A_KIND\n",
    "        case 4:\n",
    "            return Card_type.PAIR\n",
    "        case other:\n",
    "            return Card_type.HIGH_CARD\n",
    "\n",
    "def card_value(card: str):\n",
    "    match card:\n",
    "        case 'A':\n",
    "            return 14\n",
    "        case 'K':\n",
    "            return 13\n",
    "        case 'Q':\n",
    "            return 12\n",
    "        case 'J':\n",
    "            return 11\n",
    "        case 'T':\n",
    "            return 10\n",
    "        case other:\n",
    "            return int(card)\n",
    "\n",
    "\n",
    "def highest_card(a: str, b: str) -> int:\n",
    "    a_value = card_value(a)\n",
    "    b_value = card_value(b)\n",
    "    if a_value > b_value:\n",
    "        return 1\n",
    "    elif a_value < b_value:\n",
    "        return -1\n",
    "    return 0\n",
    "\n",
    "def compare_hand_value(A: str, B: str) -> int:\n",
    "    for a,b in zip(A, B):\n",
    "        if a != b:\n",
    "            return highest_card(a,b)\n",
    "    return 0\n",
    "\n",
    "def compare_type(a: str, b: str) -> int:\n",
    "    a_type = get_type(a)\n",
    "    b_type = get_type(b)\n",
    "    if a_type > b_type:\n",
    "        return 1\n",
    "    elif a_type < b_type:\n",
    "        return -1\n",
    "    return 0\n",
    "\n",
    "def compare_hands(a: Player, b: Player) -> int:\n",
    "    return compare_type(a.hand,b.hand) or compare_hand_value(a.hand, b.hand)\n",
    "    \n",
    "\n",
    "data = read_file(\"day7/example.txt\")\n",
    "players = parse_players(data)\n",
    "sorted_players = sorted(players, key=cmp_to_key(compare_hands))\n",
    "bids = [rank * player.bid for rank, player in enumerate(sorted_players, 1)]\n",
    "print(sum(bids))    "
   ]
  },
  {
   "cell_type": "markdown",
   "metadata": {},
   "source": [
    "### Part 2"
   ]
  },
  {
   "cell_type": "code",
   "execution_count": 92,
   "metadata": {},
   "outputs": [
    {
     "name": "stdout",
     "output_type": "stream",
     "text": [
      "5905\n"
     ]
    }
   ],
   "source": [
    "def card_value(card: str):\n",
    "    match card:\n",
    "        case 'A':\n",
    "            return 14\n",
    "        case 'K':\n",
    "            return 13\n",
    "        case 'Q':\n",
    "            return 12\n",
    "        case 'J':\n",
    "            return 1\n",
    "        case 'T':\n",
    "            return 10\n",
    "        case other:\n",
    "            return int(card)\n",
    "\n",
    "def get_type(cards: str) -> Card_type:\n",
    "    unique_labels = set(cards)\n",
    "\n",
    "    wildcards = 0\n",
    "    if \"J\" in unique_labels:\n",
    "        unique_labels.remove(\"J\")\n",
    "        wildcards = cards.count(\"J\")\n",
    "    \n",
    "    match len(unique_labels):\n",
    "        case 0:\n",
    "            return Card_type.FIVE_OF_A_KIND\n",
    "        case 1:\n",
    "            return Card_type.FIVE_OF_A_KIND\n",
    "        case 2:\n",
    "            sorted_cards = sorted([cards.count(c) for c in unique_labels], reverse=True)\n",
    "            if (sorted_cards[0] + wildcards) == 4:\n",
    "                return Card_type.FOUR_OF_A_KIND\n",
    "            return Card_type.FULL_HOUSE\n",
    "        case 3:\n",
    "            sorted_cards = sorted([cards.count(c) for c in unique_labels], reverse=True)\n",
    "            if (sorted_cards[0] + wildcards) == 3:\n",
    "                return Card_type.THREE_OF_A_KIND\n",
    "            return Card_type.TWO_PAIR\n",
    "\n",
    "        case 4:\n",
    "            return Card_type.PAIR\n",
    "        case other:\n",
    "            return Card_type.HIGH_CARD\n",
    "\n",
    "data = read_file(\"day7/example.txt\")\n",
    "players = parse_players(data)\n",
    "sorted_players = sorted(players, key=cmp_to_key(compare_hands))\n",
    "bids = [rank * player.bid for rank, player in enumerate(sorted_players, 1)]\n",
    "print(sum(bids))    "
   ]
  },
  {
   "cell_type": "markdown",
   "metadata": {},
   "source": [
    "# Day 8: Haunted Wasteland"
   ]
  },
  {
   "cell_type": "markdown",
   "id": "c91ef467",
   "metadata": {},
   "source": [
    "### Part 1"
   ]
  },
  {
   "cell_type": "code",
   "execution_count": 93,
   "id": "c9bf5349",
   "metadata": {},
   "outputs": [
    {
     "name": "stdout",
     "output_type": "stream",
     "text": [
      "2\n"
     ]
    }
   ],
   "source": [
    "@dataclass\n",
    "class Node():\n",
    "    label: str\n",
    "    left: str\n",
    "    right: str\n",
    "\n",
    "def parse_data(lines: list[str]) -> (str, dict[str, Node]):\n",
    "    tree = {}\n",
    "    for line in lines[2:]:\n",
    "        label, left, right = re.findall(r'(\\w{3})',line)\n",
    "        tree[label] = Node(label, left, right)\n",
    "\n",
    "    return lines[0], tree\n",
    "\n",
    "def start(tree: dict[str, Node]) -> Node:\n",
    "    return tree['AAA']\n",
    "\n",
    "def go_to_zzz(tree: dict[str, Node], instructions: str) -> int:\n",
    "    current_node = start(tree)\n",
    "\n",
    "    steps = 0\n",
    "    while(current_node.label != 'ZZZ'):\n",
    "        s = instructions[steps % len(instructions)]\n",
    "        steps += 1\n",
    "        current_node = tree[current_node.left] if s == \"L\" else tree[current_node.right]\n",
    "    \n",
    "    return steps\n",
    "\n",
    "data = read_file(\"Day8/example1.txt\")\n",
    "\n",
    "instructions, tree = parse_data(data)\n",
    "steps = go_to_zzz(tree, instructions)\n",
    "print(steps)\n"
   ]
  },
  {
   "cell_type": "markdown",
   "id": "46c092fe",
   "metadata": {},
   "source": [
    "### Part 2\n",
    "\n",
    "\n",
    "This solution was my second attempt.\n",
    "This solution finds first cycle and returns the steps to the last found Z. In my input the Z:s was right before the cycle wrapt around.\n",
    "\n",
    "So I calculate the number of steps until I reach this Z for each A. Then I find the least common multiple between these steps.\n",
    "\n",
    "I tried a multithreaded solution first, where I spawn a worker for each start, ran it for 10^6 steps and compared the output, but after looking for the answer for 60 min I gave up and tried this solution.\n"
   ]
  },
  {
   "cell_type": "code",
   "execution_count": 94,
   "id": "5fcdb642",
   "metadata": {},
   "outputs": [
    {
     "name": "stdout",
     "output_type": "stream",
     "text": [
      "6\n"
     ]
    }
   ],
   "source": [
    "def starts(tree) -> list[Node]:\n",
    "    return [node for node in tree.values() if node.label.endswith('A')]\n",
    "\n",
    "def goal_reached(nodes: list[Node]) -> bool:\n",
    "    return all([n.label.endswith(\"Z\") for n in nodes]) \n",
    "\n",
    "def next_node(node: Node, tree: list[Node], instruction: str) -> Node:\n",
    "    return tree[node.left] if instruction == \"L\" else tree[node.right]\n",
    "\n",
    "def find_cycle(tree: dict[str, Node], start: Node, instructions: str) -> int:\n",
    "    current_node = start\n",
    "    visited = {}\n",
    "\n",
    "    steps = 0\n",
    "    while f\"{steps % len(instructions)}_{current_node.label}\" not in visited:\n",
    "        k = f\"{steps % len(instructions)}_{current_node.label}\"\n",
    "        visited[k] = steps\n",
    "        s = instructions[steps % len(instructions)]\n",
    "        steps += 1\n",
    "        current_node = next_node(current_node, tree, s)\n",
    "    \n",
    "\n",
    "    zs = [n for n in visited.keys() if n.endswith(\"Z\")]\n",
    "    \n",
    "    # My input only had 1 z in the entire cycle, and it was at step 0 modulos len of instructions.\n",
    "    # The reason I return last z in list of zs is to make it work with the example that had 2 z in one cycle.\n",
    "    # I.E this algorithm is not generic but works for the example and my input \n",
    "    return visited[zs[-1]]\n",
    "\n",
    "\n",
    "def go_to_all_ending_with_z(tree: dict[str, Node], instructions: str) -> int:\n",
    "    z_cycles = [find_cycle(tree, node, instructions) for node in starts(tree)]\n",
    "    \n",
    "    return math.lcm(*z_cycles)\n",
    "\n",
    "data = read_file(\"Day8/example3.txt\")\n",
    "instructions, tree = parse_data(data)\n",
    "steps = go_to_all_ending_with_z(tree, instructions)\n",
    "print(steps)\n"
   ]
  },
  {
   "cell_type": "markdown",
   "id": "b9ae0468",
   "metadata": {},
   "source": [
    "# Day 9: Mirage Maintenance"
   ]
  },
  {
   "cell_type": "code",
   "execution_count": 95,
   "id": "3f20f4c5",
   "metadata": {},
   "outputs": [
    {
     "name": "stdout",
     "output_type": "stream",
     "text": [
      "114\n"
     ]
    }
   ],
   "source": [
    "def parse_sequence(line: str) -> list[int]:\n",
    "    return [int(x) for x in line.split()]\n",
    "\n",
    "def parse_sequences(lines: list[str]) -> list[list[int]]:\n",
    "    return [parse_sequence(line) for line in lines]\n",
    "\n",
    "def difference(sequence: list[int]) -> list[int]:\n",
    "    return [sequence[i+1] - sequence[i] for i in range(len(sequence)-1)]\n",
    "\n",
    "def predict_next(sequence: list[int]) -> int:\n",
    "    ds = [difference(sequence)]\n",
    "    \n",
    "    while any(ds[-1]):\n",
    "        d = difference(ds[-1])\n",
    "        ds.append(d)\n",
    "\n",
    "    last = [d[-1] for d in ds]\n",
    "    return sum(last) + sequence[-1]\n",
    "\n",
    "data = read_file(\"Day9/example.txt\")\n",
    "sequences = parse_sequences(data)\n",
    "\n",
    "res = sum([predict_next(s) for s in sequences])\n",
    "print(res)"
   ]
  },
  {
   "cell_type": "markdown",
   "id": "cbb83070",
   "metadata": {},
   "source": [
    "### Part 2\n",
    "\n",
    "I implemented a *predict backwards* function in this part, but Amanda showed me that I could just reverse the sequence and re-use my *predict next* from part 1, anyway, this works, yay!"
   ]
  },
  {
   "cell_type": "code",
   "execution_count": 96,
   "id": "cddfc2df",
   "metadata": {},
   "outputs": [
    {
     "name": "stdout",
     "output_type": "stream",
     "text": [
      "2\n"
     ]
    }
   ],
   "source": [
    "from functools import reduce  # omit on Python 2\n",
    "\n",
    "def predict_backwards(sequence: list[int]) -> int:\n",
    "    ds = [difference(sequence)]\n",
    "    \n",
    "    while any(ds[-1]):\n",
    "        d = difference(ds[-1])\n",
    "        ds.append(d)\n",
    "\n",
    "    first = [d[0] for d in ds[::-1]]\n",
    "    first.append(sequence[0])\n",
    "\n",
    "    return reduce(lambda x, y: y-x, first)\n",
    "\n",
    "data = read_file(\"Day9/example.txt\")\n",
    "sequences = parse_sequences(data)\n",
    "\n",
    "res = sum(([predict_backwards(s) for s in sequences]))\n",
    "print(res)"
   ]
  }
 ],
 "metadata": {
  "kernelspec": {
   "display_name": "Python 3 (ipykernel)",
   "language": "python",
   "name": "python3"
  },
  "language_info": {
   "codemirror_mode": {
    "name": "ipython",
    "version": 3
   },
   "file_extension": ".py",
   "mimetype": "text/x-python",
   "name": "python",
   "nbconvert_exporter": "python",
   "pygments_lexer": "ipython3",
   "version": "3.10.6"
  }
 },
 "nbformat": 4,
 "nbformat_minor": 5
}
